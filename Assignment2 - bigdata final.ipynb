{
 "cells": [
  {
   "cell_type": "markdown",
   "metadata": {},
   "source": [
    "### Assignment 2:"
   ]
  },
  {
   "cell_type": "markdown",
   "metadata": {},
   "source": [
    "### Give me some credit-"
   ]
  },
  {
   "cell_type": "markdown",
   "metadata": {},
   "source": [
    "\n",
    "\n",
    "#### Abstract- \n",
    "    Banks play a crucial role in market economies. They decide who can get finance and on what terms and can make or break   investment decisions. For markets and society to function, individuals and companies need access to credit. \n",
    "\n",
    "    Credit scoring algorithms, which make a guess at the probability of default, are the method banks use to determine whether or not a loan should be granted. The Aim of this assignment requires us to improve on the state of the art in credit scoring, by predicting the probability that somebody will experience financial distress in the next two years.\n",
    "\n",
    "    The goal of this competition is to build a model that borrowers can use to help make the best financial decisions.\n",
    "\n",
    "    We implemnted H2o for regression and classification to find out the best model and best AUC and RMSE score for our dataset. \n",
    "The results we achieved are as follows: \n",
    "\n",
    " - The best model for both Classification and regression is Stacked Ensemble\n",
    " - The best AUC score is 0.9538828675746901\n",
    " - The best logloss score is 0.13823047113084244\n",
    " - The best RMSE Value is 0.18729468157687296\n",
    " \n",
    "   \n",
    "   As AUC is area under the ROC (Receiver Operating Characteristic) Curve. To use this to evaluate a regression curve, a decision rule is used to covert the probabilities into a postive/negative result. AUC uses the confusion matrix (True Postive/False Positive/True Negative/False Negative). Taking the True Positive rate and the False Positive Rate under different thresholds for logisitic regression, they are plotted on a graph. The closer a model comes to 1 for AUC, the better it is.\n",
    "   \n",
    "Another method of evaluating a model could be mean-squared error. The disadvantage of mean-squared error as compared to AUC is that mean-squared error penalizes single large errors, while tolerates multiple smaller errors. This could lead to a lower score for a model that has a large error for a few values but predicts the rest of the values accurately, compared to a model that consistently gives small errors for each value. Based on our needs, we might prefer the first model over the second.\n",
    " "
   ]
  },
  {
   "cell_type": "markdown",
   "metadata": {},
   "source": [
    "Prediction Problem - Predict the probability that somebody will experience financial distress in the next two years."
   ]
  },
  {
   "cell_type": "markdown",
   "metadata": {},
   "source": [
    " - DELINQUENCY RATE:\n",
    "\n",
    "The term \"delinquent\" commonly refers to a situation where a borrower is late or overdue on a payment, such as income taxes, a mortgage, an automobile loan or a credit card account. There are consequences for being delinquent, depending on the type, duration and cause of the delinquency. People who are late with a credit card payment may be forced to pay a late fee. \"Delinquent\" also refers to the failure to perform a duty or act in a manner expected of a person in a particular profession or situation. For example, a police officer who does not act in a manner to fulfill his duty to protect could be found delinquent."
   ]
  },
  {
   "cell_type": "markdown",
   "metadata": {},
   "source": [
    "\n",
    "##### Dataset Description:\n",
    "\n",
    "   - SeriousDlqin2yrs---Person experienced 90 days past due delinquency or worse \tY/N\n",
    "   - RevolvingUtilizationOfUnsecuredLines---Total balance on credit cards and personal lines of credit except real estate and        no installment debt like car loans divided by the sum of credit limits\tpercentage\n",
    "   - age---Age of borrower in years\tinteger\n",
    "   - NumberOfTime30-59DaysPastDueNotWorse---Number of times borrower has been 30-59 days past due but no worse in the last 2         years.\tinteger\n",
    "   - DebtRatio---Monthly debt payments, alimony,living costs divided by monthy gross income\tpercentage\n",
    "   - MonthlyIncome---Monthly income\treal\n",
    "   - NumberOfOpenCreditLinesAndLoans---Number of Open loans (installment like car loan or mortgage) and Lines of credit (e.g.       credit cards)\tinteger\n",
    "   - NumberOfTimes90DaysLate---Number of times borrower has been 90 days or more past due.\tinteger\n",
    "   - NumberRealEstateLoansOrLines---Number of mortgage and real estate loans including home equity lines of credit\tinteger\n",
    "   - NumberOfTime60-89DaysPastDueNotWorse---Number of times borrower has been 60-89 days past due but no worse in the last 2         years.\tinteger\n",
    "   - NumberOfDependents---Number of dependents in family excluding themselves (spouse, children etc.)\tinteger\n"
   ]
  },
  {
   "cell_type": "code",
   "execution_count": 473,
   "metadata": {},
   "outputs": [],
   "source": [
    "import h2o\n",
    "from h2o.automl import H2OAutoML\n",
    "import random, os, sys\n",
    "from datetime import datetime\n",
    "import pandas as pd\n",
    "import logging\n",
    "import csv\n",
    "import optparse\n",
    "import time\n",
    "import json\n",
    "from distutils.util import strtobool\n",
    "import psutil\n",
    "import numpy as np"
   ]
  },
  {
   "cell_type": "code",
   "execution_count": 474,
   "metadata": {},
   "outputs": [],
   "source": [
    "df = pd.read_csv(\"C:\\\\Users\\\\Spurthy\\\\Documents\\\\cs-training.csv\")"
   ]
  },
  {
   "cell_type": "code",
   "execution_count": 475,
   "metadata": {},
   "outputs": [
    {
     "data": {
      "text/html": [
       "<div>\n",
       "<style scoped>\n",
       "    .dataframe tbody tr th:only-of-type {\n",
       "        vertical-align: middle;\n",
       "    }\n",
       "\n",
       "    .dataframe tbody tr th {\n",
       "        vertical-align: top;\n",
       "    }\n",
       "\n",
       "    .dataframe thead th {\n",
       "        text-align: right;\n",
       "    }\n",
       "</style>\n",
       "<table border=\"1\" class=\"dataframe\">\n",
       "  <thead>\n",
       "    <tr style=\"text-align: right;\">\n",
       "      <th></th>\n",
       "      <th>serious_dlqin2yrs</th>\n",
       "      <th>revolving_utilization_of_unsecured_lines</th>\n",
       "      <th>age</th>\n",
       "      <th>number_of_time30-59_days_past_due_not_worse</th>\n",
       "      <th>debt_ratio</th>\n",
       "      <th>monthly_income</th>\n",
       "      <th>number_of_open_credit_lines_and_loans</th>\n",
       "      <th>number_of_times90_days_late</th>\n",
       "      <th>number_real_estate_loans_or_lines</th>\n",
       "      <th>number_of_time60-89_days_past_due_not_worse</th>\n",
       "      <th>number_of_dependents</th>\n",
       "    </tr>\n",
       "  </thead>\n",
       "  <tbody>\n",
       "    <tr>\n",
       "      <th>0</th>\n",
       "      <td>0</td>\n",
       "      <td>0.957151</td>\n",
       "      <td>40</td>\n",
       "      <td>0</td>\n",
       "      <td>0.121876</td>\n",
       "      <td>2600.0</td>\n",
       "      <td>4</td>\n",
       "      <td>0</td>\n",
       "      <td>0</td>\n",
       "      <td>0</td>\n",
       "      <td>1.0</td>\n",
       "    </tr>\n",
       "    <tr>\n",
       "      <th>1</th>\n",
       "      <td>0</td>\n",
       "      <td>0.658180</td>\n",
       "      <td>38</td>\n",
       "      <td>1</td>\n",
       "      <td>0.085113</td>\n",
       "      <td>3042.0</td>\n",
       "      <td>2</td>\n",
       "      <td>1</td>\n",
       "      <td>0</td>\n",
       "      <td>0</td>\n",
       "      <td>0.0</td>\n",
       "    </tr>\n",
       "    <tr>\n",
       "      <th>2</th>\n",
       "      <td>0</td>\n",
       "      <td>0.233810</td>\n",
       "      <td>30</td>\n",
       "      <td>0</td>\n",
       "      <td>0.036050</td>\n",
       "      <td>3300.0</td>\n",
       "      <td>5</td>\n",
       "      <td>0</td>\n",
       "      <td>0</td>\n",
       "      <td>0</td>\n",
       "      <td>0.0</td>\n",
       "    </tr>\n",
       "    <tr>\n",
       "      <th>3</th>\n",
       "      <td>0</td>\n",
       "      <td>0.907239</td>\n",
       "      <td>49</td>\n",
       "      <td>1</td>\n",
       "      <td>0.024926</td>\n",
       "      <td>63588.0</td>\n",
       "      <td>7</td>\n",
       "      <td>0</td>\n",
       "      <td>1</td>\n",
       "      <td>0</td>\n",
       "      <td>0.0</td>\n",
       "    </tr>\n",
       "    <tr>\n",
       "      <th>4</th>\n",
       "      <td>0</td>\n",
       "      <td>0.213179</td>\n",
       "      <td>74</td>\n",
       "      <td>0</td>\n",
       "      <td>0.375607</td>\n",
       "      <td>3500.0</td>\n",
       "      <td>3</td>\n",
       "      <td>0</td>\n",
       "      <td>1</td>\n",
       "      <td>0</td>\n",
       "      <td>1.0</td>\n",
       "    </tr>\n",
       "  </tbody>\n",
       "</table>\n",
       "</div>"
      ],
      "text/plain": [
       "   serious_dlqin2yrs  revolving_utilization_of_unsecured_lines  age  \\\n",
       "0                  0                                  0.957151   40   \n",
       "1                  0                                  0.658180   38   \n",
       "2                  0                                  0.233810   30   \n",
       "3                  0                                  0.907239   49   \n",
       "4                  0                                  0.213179   74   \n",
       "\n",
       "   number_of_time30-59_days_past_due_not_worse  debt_ratio  monthly_income  \\\n",
       "0                                            0    0.121876          2600.0   \n",
       "1                                            1    0.085113          3042.0   \n",
       "2                                            0    0.036050          3300.0   \n",
       "3                                            1    0.024926         63588.0   \n",
       "4                                            0    0.375607          3500.0   \n",
       "\n",
       "   number_of_open_credit_lines_and_loans  number_of_times90_days_late  \\\n",
       "0                                      4                            0   \n",
       "1                                      2                            1   \n",
       "2                                      5                            0   \n",
       "3                                      7                            0   \n",
       "4                                      3                            0   \n",
       "\n",
       "   number_real_estate_loans_or_lines  \\\n",
       "0                                  0   \n",
       "1                                  0   \n",
       "2                                  0   \n",
       "3                                  1   \n",
       "4                                  1   \n",
       "\n",
       "   number_of_time60-89_days_past_due_not_worse  number_of_dependents  \n",
       "0                                            0                   1.0  \n",
       "1                                            0                   0.0  \n",
       "2                                            0                   0.0  \n",
       "3                                            0                   0.0  \n",
       "4                                            0                   1.0  "
      ]
     },
     "execution_count": 475,
     "metadata": {},
     "output_type": "execute_result"
    }
   ],
   "source": [
    "df.head(5)"
   ]
  },
  {
   "cell_type": "markdown",
   "metadata": {},
   "source": [
    "    describe() gives out a lot of information.\n",
    "\n",
    "    Number of rows and columns in the dataset\n",
    "    A number of summary statistics about the dataset such as\n",
    "    Data type of the column such as integer, categorical etc\n",
    "    Minimum value\n",
    "    Mean value\n",
    "    Maximum value\n",
    "    Standard deviation value\n",
    "\n",
    "   "
   ]
  },
  {
   "cell_type": "code",
   "execution_count": 476,
   "metadata": {},
   "outputs": [
    {
     "data": {
      "text/html": [
       "<div>\n",
       "<style scoped>\n",
       "    .dataframe tbody tr th:only-of-type {\n",
       "        vertical-align: middle;\n",
       "    }\n",
       "\n",
       "    .dataframe tbody tr th {\n",
       "        vertical-align: top;\n",
       "    }\n",
       "\n",
       "    .dataframe thead th {\n",
       "        text-align: right;\n",
       "    }\n",
       "</style>\n",
       "<table border=\"1\" class=\"dataframe\">\n",
       "  <thead>\n",
       "    <tr style=\"text-align: right;\">\n",
       "      <th></th>\n",
       "      <th>serious_dlqin2yrs</th>\n",
       "      <th>revolving_utilization_of_unsecured_lines</th>\n",
       "      <th>age</th>\n",
       "      <th>number_of_time30-59_days_past_due_not_worse</th>\n",
       "      <th>debt_ratio</th>\n",
       "      <th>monthly_income</th>\n",
       "      <th>number_of_open_credit_lines_and_loans</th>\n",
       "      <th>number_of_times90_days_late</th>\n",
       "      <th>number_real_estate_loans_or_lines</th>\n",
       "      <th>number_of_time60-89_days_past_due_not_worse</th>\n",
       "      <th>number_of_dependents</th>\n",
       "    </tr>\n",
       "  </thead>\n",
       "  <tbody>\n",
       "    <tr>\n",
       "      <th>count</th>\n",
       "      <td>112323.000000</td>\n",
       "      <td>112323.000000</td>\n",
       "      <td>112323.000000</td>\n",
       "      <td>112323.000000</td>\n",
       "      <td>112323.000000</td>\n",
       "      <td>1.123230e+05</td>\n",
       "      <td>112323.000000</td>\n",
       "      <td>112323.000000</td>\n",
       "      <td>112323.000000</td>\n",
       "      <td>112323.000000</td>\n",
       "      <td>112323.000000</td>\n",
       "    </tr>\n",
       "    <tr>\n",
       "      <th>mean</th>\n",
       "      <td>0.067172</td>\n",
       "      <td>6.005897</td>\n",
       "      <td>52.275375</td>\n",
       "      <td>0.415596</td>\n",
       "      <td>357.465133</td>\n",
       "      <td>6.411766e+03</td>\n",
       "      <td>8.453140</td>\n",
       "      <td>0.259617</td>\n",
       "      <td>1.020975</td>\n",
       "      <td>0.233461</td>\n",
       "      <td>0.736991</td>\n",
       "    </tr>\n",
       "    <tr>\n",
       "      <th>std</th>\n",
       "      <td>0.250321</td>\n",
       "      <td>247.705056</td>\n",
       "      <td>14.761284</td>\n",
       "      <td>4.107521</td>\n",
       "      <td>2263.670105</td>\n",
       "      <td>1.381620e+04</td>\n",
       "      <td>5.134853</td>\n",
       "      <td>4.083151</td>\n",
       "      <td>1.129388</td>\n",
       "      <td>4.068274</td>\n",
       "      <td>1.106160</td>\n",
       "    </tr>\n",
       "    <tr>\n",
       "      <th>min</th>\n",
       "      <td>0.000000</td>\n",
       "      <td>0.000000</td>\n",
       "      <td>0.000000</td>\n",
       "      <td>0.000000</td>\n",
       "      <td>0.000000</td>\n",
       "      <td>0.000000e+00</td>\n",
       "      <td>0.000000</td>\n",
       "      <td>0.000000</td>\n",
       "      <td>0.000000</td>\n",
       "      <td>0.000000</td>\n",
       "      <td>0.000000</td>\n",
       "    </tr>\n",
       "    <tr>\n",
       "      <th>25%</th>\n",
       "      <td>0.000000</td>\n",
       "      <td>0.030041</td>\n",
       "      <td>41.000000</td>\n",
       "      <td>0.000000</td>\n",
       "      <td>0.175201</td>\n",
       "      <td>3.300000e+03</td>\n",
       "      <td>5.000000</td>\n",
       "      <td>0.000000</td>\n",
       "      <td>0.000000</td>\n",
       "      <td>0.000000</td>\n",
       "      <td>0.000000</td>\n",
       "    </tr>\n",
       "    <tr>\n",
       "      <th>50%</th>\n",
       "      <td>0.000000</td>\n",
       "      <td>0.155169</td>\n",
       "      <td>52.000000</td>\n",
       "      <td>0.000000</td>\n",
       "      <td>0.365833</td>\n",
       "      <td>5.136000e+03</td>\n",
       "      <td>8.000000</td>\n",
       "      <td>0.000000</td>\n",
       "      <td>1.000000</td>\n",
       "      <td>0.000000</td>\n",
       "      <td>0.000000</td>\n",
       "    </tr>\n",
       "    <tr>\n",
       "      <th>75%</th>\n",
       "      <td>0.000000</td>\n",
       "      <td>0.562628</td>\n",
       "      <td>63.000000</td>\n",
       "      <td>0.000000</td>\n",
       "      <td>0.869070</td>\n",
       "      <td>7.876000e+03</td>\n",
       "      <td>11.000000</td>\n",
       "      <td>0.000000</td>\n",
       "      <td>2.000000</td>\n",
       "      <td>0.000000</td>\n",
       "      <td>1.000000</td>\n",
       "    </tr>\n",
       "    <tr>\n",
       "      <th>max</th>\n",
       "      <td>1.000000</td>\n",
       "      <td>50708.000000</td>\n",
       "      <td>109.000000</td>\n",
       "      <td>98.000000</td>\n",
       "      <td>329664.000000</td>\n",
       "      <td>3.008750e+06</td>\n",
       "      <td>58.000000</td>\n",
       "      <td>98.000000</td>\n",
       "      <td>54.000000</td>\n",
       "      <td>98.000000</td>\n",
       "      <td>20.000000</td>\n",
       "    </tr>\n",
       "  </tbody>\n",
       "</table>\n",
       "</div>"
      ],
      "text/plain": [
       "       serious_dlqin2yrs  revolving_utilization_of_unsecured_lines  \\\n",
       "count      112323.000000                             112323.000000   \n",
       "mean            0.067172                                  6.005897   \n",
       "std             0.250321                                247.705056   \n",
       "min             0.000000                                  0.000000   \n",
       "25%             0.000000                                  0.030041   \n",
       "50%             0.000000                                  0.155169   \n",
       "75%             0.000000                                  0.562628   \n",
       "max             1.000000                              50708.000000   \n",
       "\n",
       "                 age  number_of_time30-59_days_past_due_not_worse  \\\n",
       "count  112323.000000                                112323.000000   \n",
       "mean       52.275375                                     0.415596   \n",
       "std        14.761284                                     4.107521   \n",
       "min         0.000000                                     0.000000   \n",
       "25%        41.000000                                     0.000000   \n",
       "50%        52.000000                                     0.000000   \n",
       "75%        63.000000                                     0.000000   \n",
       "max       109.000000                                    98.000000   \n",
       "\n",
       "          debt_ratio  monthly_income  number_of_open_credit_lines_and_loans  \\\n",
       "count  112323.000000    1.123230e+05                          112323.000000   \n",
       "mean      357.465133    6.411766e+03                               8.453140   \n",
       "std      2263.670105    1.381620e+04                               5.134853   \n",
       "min         0.000000    0.000000e+00                               0.000000   \n",
       "25%         0.175201    3.300000e+03                               5.000000   \n",
       "50%         0.365833    5.136000e+03                               8.000000   \n",
       "75%         0.869070    7.876000e+03                              11.000000   \n",
       "max    329664.000000    3.008750e+06                              58.000000   \n",
       "\n",
       "       number_of_times90_days_late  number_real_estate_loans_or_lines  \\\n",
       "count                112323.000000                      112323.000000   \n",
       "mean                      0.259617                           1.020975   \n",
       "std                       4.083151                           1.129388   \n",
       "min                       0.000000                           0.000000   \n",
       "25%                       0.000000                           0.000000   \n",
       "50%                       0.000000                           1.000000   \n",
       "75%                       0.000000                           2.000000   \n",
       "max                      98.000000                          54.000000   \n",
       "\n",
       "       number_of_time60-89_days_past_due_not_worse  number_of_dependents  \n",
       "count                                112323.000000         112323.000000  \n",
       "mean                                      0.233461              0.736991  \n",
       "std                                       4.068274              1.106160  \n",
       "min                                       0.000000              0.000000  \n",
       "25%                                       0.000000              0.000000  \n",
       "50%                                       0.000000              0.000000  \n",
       "75%                                       0.000000              1.000000  \n",
       "max                                      98.000000             20.000000  "
      ]
     },
     "execution_count": 476,
     "metadata": {},
     "output_type": "execute_result"
    }
   ],
   "source": [
    "df.describe()"
   ]
  },
  {
   "cell_type": "code",
   "execution_count": 477,
   "metadata": {},
   "outputs": [],
   "source": [
    "target='serious_dlqin2yrs'\n",
    "min_mem_size=6\n",
    "run_time=333"
   ]
  },
  {
   "cell_type": "code",
   "execution_count": 478,
   "metadata": {},
   "outputs": [
    {
     "name": "stdout",
     "output_type": "stream",
     "text": [
      "1\n"
     ]
    }
   ],
   "source": [
    "pct_memory=0.5\n",
    "virtual_memory=psutil.virtual_memory()\n",
    "min_mem_size=int(round(int(pct_memory*virtual_memory.available)/1073741824,0))\n",
    "print(min_mem_size)"
   ]
  },
  {
   "cell_type": "markdown",
   "metadata": {},
   "source": [
    "### H2o:\n",
    "\n",
    "    H2O is fast, scalable, open-source machine learning and deep learning for Smarter Applications. \n",
    "\n",
    "    H2O implements almost all common machine learning algorithms, such as generalized linear modeling (linear regression, logistic regression, etc.), Naïve Bayes, principal components analysis, time series, k-means clustering, and others. H2O also implements best-in-class algorithms such as Random Forest, Gradient Boosting, and Deep Learning at scale. Customers can build thousands of models and compare them to get the best prediction results.\n",
    "    \n",
    "   "
   ]
  },
  {
   "cell_type": "code",
   "execution_count": 479,
   "metadata": {},
   "outputs": [
    {
     "name": "stdout",
     "output_type": "stream",
     "text": [
      "Checking whether there is an H2O instance running at http://localhost:53210..... not found.\n",
      "Attempting to start a local H2O server...\n",
      "; Java HotSpot(TM) 64-Bit Server VM 18.3 (build 10.0.2+13, mixed mode)\n",
      "  Starting server from C:\\Users\\Spurthy\\Anaconda3\\lib\\site-packages\\h2o\\backend\\bin\\h2o.jar\n",
      "  Ice root: C:\\Users\\Spurthy\\AppData\\Local\\Temp\\tmpk5miljzq\n",
      "  JVM stdout: C:\\Users\\Spurthy\\AppData\\Local\\Temp\\tmpk5miljzq\\h2o_Spurthy_started_from_python.out\n",
      "  JVM stderr: C:\\Users\\Spurthy\\AppData\\Local\\Temp\\tmpk5miljzq\\h2o_Spurthy_started_from_python.err\n",
      "  Server is running at http://127.0.0.1:53210\n",
      "Connecting to H2O server at http://127.0.0.1:53210... successful.\n"
     ]
    },
    {
     "data": {
      "text/html": [
       "<div style=\"overflow:auto\"><table style=\"width:50%\"><tr><td>H2O cluster uptime:</td>\n",
       "<td>03 secs</td></tr>\n",
       "<tr><td>H2O cluster timezone:</td>\n",
       "<td>America/New_York</td></tr>\n",
       "<tr><td>H2O data parsing timezone:</td>\n",
       "<td>UTC</td></tr>\n",
       "<tr><td>H2O cluster version:</td>\n",
       "<td>3.22.1.4</td></tr>\n",
       "<tr><td>H2O cluster version age:</td>\n",
       "<td>13 days </td></tr>\n",
       "<tr><td>H2O cluster name:</td>\n",
       "<td>H2O_from_python_Spurthy_tv5k1n</td></tr>\n",
       "<tr><td>H2O cluster total nodes:</td>\n",
       "<td>1</td></tr>\n",
       "<tr><td>H2O cluster free memory:</td>\n",
       "<td>3.963 Gb</td></tr>\n",
       "<tr><td>H2O cluster total cores:</td>\n",
       "<td>0</td></tr>\n",
       "<tr><td>H2O cluster allowed cores:</td>\n",
       "<td>0</td></tr>\n",
       "<tr><td>H2O cluster status:</td>\n",
       "<td>accepting new members, healthy</td></tr>\n",
       "<tr><td>H2O connection url:</td>\n",
       "<td>http://127.0.0.1:53210</td></tr>\n",
       "<tr><td>H2O connection proxy:</td>\n",
       "<td>None</td></tr>\n",
       "<tr><td>H2O internal security:</td>\n",
       "<td>False</td></tr>\n",
       "<tr><td>H2O API Extensions:</td>\n",
       "<td>Amazon S3, Algos, AutoML, Core V3, Core V4</td></tr>\n",
       "<tr><td>Python version:</td>\n",
       "<td>3.6.4 final</td></tr></table></div>"
      ],
      "text/plain": [
       "--------------------------  ------------------------------------------\n",
       "H2O cluster uptime:         03 secs\n",
       "H2O cluster timezone:       America/New_York\n",
       "H2O data parsing timezone:  UTC\n",
       "H2O cluster version:        3.22.1.4\n",
       "H2O cluster version age:    13 days\n",
       "H2O cluster name:           H2O_from_python_Spurthy_tv5k1n\n",
       "H2O cluster total nodes:    1\n",
       "H2O cluster free memory:    3.963 Gb\n",
       "H2O cluster total cores:    0\n",
       "H2O cluster allowed cores:  0\n",
       "H2O cluster status:         accepting new members, healthy\n",
       "H2O connection url:         http://127.0.0.1:53210\n",
       "H2O connection proxy:\n",
       "H2O internal security:      False\n",
       "H2O API Extensions:         Amazon S3, Algos, AutoML, Core V3, Core V4\n",
       "Python version:             3.6.4 final\n",
       "--------------------------  ------------------------------------------"
      ]
     },
     "metadata": {},
     "output_type": "display_data"
    }
   ],
   "source": [
    "# 65535 Highest port no\n",
    "port_no=random.randint(5555,55555)\n",
    "\n",
    "#  h2o.init(strict_version_check=False,min_mem_size_GB=min_mem_size,port=port_no) # start h2o\n",
    "try:\n",
    "  h2o.init(strict_version_check=False,min_mem_size_GB=min_mem_size,port=port_no) # start h2o\n",
    "except:\n",
    "  logging.critical('h2o.init')\n",
    "  h2o.download_all_logs(dirname=logs_path, filename=logfile)      \n",
    "  h2o.cluster().shutdown()\n",
    "  sys.exit(2)"
   ]
  },
  {
   "cell_type": "code",
   "execution_count": 480,
   "metadata": {},
   "outputs": [
    {
     "name": "stdout",
     "output_type": "stream",
     "text": [
      "Parse progress: |█████████████████████████████████████████████████████████| 100%\n"
     ]
    }
   ],
   "source": [
    "# Loading the CSV file\n",
    "df = h2o.import_file(path = 'C:\\\\Users\\\\Spurthy\\\\Documents\\\\cs-training.csv')\n",
    "#train[\"SeriousDlqin2yrs\"] = train[\"SeriousDlqin2yrs\"].asfactor()"
   ]
  },
  {
   "cell_type": "markdown",
   "metadata": {},
   "source": [
    "### Train Models Using H2O's AutoML"
   ]
  },
  {
   "cell_type": "markdown",
   "metadata": {},
   "source": [
    "     H2O’s AutoML is used for automating the machine learning workflow, which includes automatic training and tuning of many models within a user-specified time-limit. Stacked Ensembles will be automatically trained on collections of individual models to produce highly predictive ensemble models which, in most cases, will be the top performing models in the AutoML Leaderboard."
   ]
  },
  {
   "cell_type": "code",
   "execution_count": 482,
   "metadata": {},
   "outputs": [],
   "source": [
    "def get_independent_variables(df, targ):\n",
    "    C = [name for name in df.columns if name != targ]\n",
    "    # determine column types\n",
    "    ints, reals, enums = [], [], []\n",
    "    for key, val in df.types.items():\n",
    "        if key in C:\n",
    "            if val == 'enum':\n",
    "                enums.append(key)\n",
    "            elif val == 'int':\n",
    "                ints.append(key)            \n",
    "            else: \n",
    "                reals.append(key)    \n",
    "    x=ints+enums+reals\n",
    "    return x\n",
    "\n"
   ]
  },
  {
   "cell_type": "code",
   "execution_count": 483,
   "metadata": {},
   "outputs": [
    {
     "name": "stdout",
     "output_type": "stream",
     "text": [
      "['age', 'number_of_time30-59_days_past_due_not_worse', 'monthly_income', 'number_of_open_credit_lines_and_loans', 'number_of_times90_days_late', 'number_real_estate_loans_or_lines', 'number_of_time60-89_days_past_due_not_worse', 'number_of_dependents', 'revolving_utilization_of_unsecured_lines', 'debt_ratio']\n"
     ]
    }
   ],
   "source": [
    "X=get_independent_variables(df, target) \n",
    "print(X)"
   ]
  },
  {
   "cell_type": "code",
   "execution_count": 484,
   "metadata": {},
   "outputs": [],
   "source": [
    "\n",
    "# Set target and predictor variables\n",
    "y = target"
   ]
  },
  {
   "cell_type": "markdown",
   "metadata": {},
   "source": [
    "### Regression"
   ]
  },
  {
   "cell_type": "markdown",
   "metadata": {},
   "source": [
    "    Regression analysis is a form of predictive modelling technique which investigates the relationship between a dependent (target) and independent variable (s) (predictor). This technique is used for forecasting, time series modelling and finding the causal effect relationship between the variables.\n",
    "\n",
    "    Regression analysis is an important tool for modelling and analyzing data. Here, we fit a curve / line to the data points, in such a manner that the differences between the distances of data points from the curve or line is minimized."
   ]
  },
  {
   "cell_type": "code",
   "execution_count": 485,
   "metadata": {},
   "outputs": [],
   "source": [
    "# Set up AutoML\n",
    "\n",
    "aml = H2OAutoML(max_runtime_secs=run_time,exclude_algos = ['DeepLearning'])"
   ]
  },
  {
   "cell_type": "code",
   "execution_count": 486,
   "metadata": {},
   "outputs": [
    {
     "name": "stdout",
     "output_type": "stream",
     "text": [
      "AutoML progress: |████████████████████████████████████████████████████████| 100%\n"
     ]
    }
   ],
   "source": [
    "model_start_time = time.time()\n",
    "  \n",
    "try:\n",
    "  aml.train(x=X,y=y,training_frame=df)  # Change training_frame=train\n",
    "except Exception as e:\n",
    "  logging.critical('aml.train') \n",
    "  h2o.download_all_logs(dirname=logs_path, filename=logfile)      \n",
    "  h2o.cluster().shutdown()   \n",
    "  sys.exit(4)"
   ]
  },
  {
   "cell_type": "code",
   "execution_count": 410,
   "metadata": {},
   "outputs": [],
   "source": [
    "\n",
    "meta_data={}\n",
    "meta_data['model_execution_time'] = {\"regression\":(time.time() - model_start_time)}"
   ]
  },
  {
   "cell_type": "code",
   "execution_count": 411,
   "metadata": {},
   "outputs": [
    {
     "data": {
      "text/plain": [
       "{'model_execution_time': {'regression': 381.44484281539917}}"
      ]
     },
     "execution_count": 411,
     "metadata": {},
     "output_type": "execute_result"
    }
   ],
   "source": [
    "\n",
    "meta_data"
   ]
  },
  {
   "cell_type": "markdown",
   "metadata": {},
   "source": [
    "### Leaderboard\n",
    "\n",
    "    Next, we will view the AutoML Leaderboard. Since we did not specify a leaderboard_frame in the H2OAutoML.train() method for scoring and ranking the models, the AutoML leaderboard uses cross-validation metrics to rank the models.\n",
    "\n",
    "    A default performance metric for each machine learning task (binary classification, multiclass classification, regression) is specified internally and the leaderboard will be sorted by that metric. In the case of binary classification, the default ranking metric is Area Under the ROC Curve (AUC). In the future, the user will be able to specify any of the H2O metrics so that different metrics can be used to generate rankings on the leaderboard.\n",
    "\n",
    "    The leader model is stored at aml.leader and the leaderboard is stored at aml.leaderboard."
   ]
  },
  {
   "cell_type": "code",
   "execution_count": 412,
   "metadata": {
    "scrolled": true
   },
   "outputs": [
    {
     "data": {
      "text/html": [
       "<table>\n",
       "<thead>\n",
       "<tr><th>model_id                                           </th><th style=\"text-align: right;\">  mean_residual_deviance</th><th style=\"text-align: right;\">    rmse</th><th style=\"text-align: right;\">      mse</th><th style=\"text-align: right;\">      mae</th><th style=\"text-align: right;\">   rmsle</th></tr>\n",
       "</thead>\n",
       "<tbody>\n",
       "<tr><td>StackedEnsemble_AllModels_AutoML_20190301_154847   </td><td style=\"text-align: right;\">               0.0498685</td><td style=\"text-align: right;\">0.223313</td><td style=\"text-align: right;\">0.0498685</td><td style=\"text-align: right;\">0.0997707</td><td style=\"text-align: right;\">0.156116</td></tr>\n",
       "<tr><td>StackedEnsemble_BestOfFamily_AutoML_20190301_154847</td><td style=\"text-align: right;\">               0.0499245</td><td style=\"text-align: right;\">0.223438</td><td style=\"text-align: right;\">0.0499245</td><td style=\"text-align: right;\">0.0999566</td><td style=\"text-align: right;\">0.156283</td></tr>\n",
       "<tr><td>GBM_5_AutoML_20190301_154847                       </td><td style=\"text-align: right;\">               0.05007  </td><td style=\"text-align: right;\">0.223763</td><td style=\"text-align: right;\">0.05007  </td><td style=\"text-align: right;\">0.100283 </td><td style=\"text-align: right;\">0.156546</td></tr>\n",
       "<tr><td>GBM_1_AutoML_20190301_154847                       </td><td style=\"text-align: right;\">               0.0504264</td><td style=\"text-align: right;\">0.224558</td><td style=\"text-align: right;\">0.0504264</td><td style=\"text-align: right;\">0.100844 </td><td style=\"text-align: right;\">0.156846</td></tr>\n",
       "<tr><td>GBM_2_AutoML_20190301_154847                       </td><td style=\"text-align: right;\">               0.0504723</td><td style=\"text-align: right;\">0.22466 </td><td style=\"text-align: right;\">0.0504723</td><td style=\"text-align: right;\">0.100681 </td><td style=\"text-align: right;\">0.156878</td></tr>\n",
       "<tr><td>XRT_1_AutoML_20190301_154847                       </td><td style=\"text-align: right;\">               0.0505795</td><td style=\"text-align: right;\">0.224899</td><td style=\"text-align: right;\">0.0505795</td><td style=\"text-align: right;\">0.101094 </td><td style=\"text-align: right;\">0.157774</td></tr>\n",
       "<tr><td>GBM_3_AutoML_20190301_154847                       </td><td style=\"text-align: right;\">               0.0505796</td><td style=\"text-align: right;\">0.224899</td><td style=\"text-align: right;\">0.0505796</td><td style=\"text-align: right;\">0.100565 </td><td style=\"text-align: right;\">0.157087</td></tr>\n",
       "<tr><td>GBM_4_AutoML_20190301_154847                       </td><td style=\"text-align: right;\">               0.0506368</td><td style=\"text-align: right;\">0.225026</td><td style=\"text-align: right;\">0.0506368</td><td style=\"text-align: right;\">0.10006  </td><td style=\"text-align: right;\">0.157304</td></tr>\n",
       "<tr><td>DRF_1_AutoML_20190301_154847                       </td><td style=\"text-align: right;\">               0.0512305</td><td style=\"text-align: right;\">0.226342</td><td style=\"text-align: right;\">0.0512305</td><td style=\"text-align: right;\">0.100663 </td><td style=\"text-align: right;\">0.159223</td></tr>\n",
       "<tr><td>GBM_grid_1_AutoML_20190301_154847_model_2          </td><td style=\"text-align: right;\">               0.053859 </td><td style=\"text-align: right;\">0.232075</td><td style=\"text-align: right;\">0.053859 </td><td style=\"text-align: right;\">0.113469 </td><td style=\"text-align: right;\">0.159918</td></tr>\n",
       "</tbody>\n",
       "</table>"
      ]
     },
     "metadata": {},
     "output_type": "display_data"
    },
    {
     "name": "stdout",
     "output_type": "stream",
     "text": [
      "\n"
     ]
    }
   ],
   "source": [
    "print(aml.leaderboard)"
   ]
  },
  {
   "cell_type": "markdown",
   "metadata": {},
   "source": [
    "### Examine the Best Model"
   ]
  },
  {
   "cell_type": "code",
   "execution_count": 413,
   "metadata": {},
   "outputs": [],
   "source": [
    "\n",
    "best_model = h2o.get_model(aml.leaderboard[0,'model_id'])"
   ]
  },
  {
   "cell_type": "code",
   "execution_count": 414,
   "metadata": {},
   "outputs": [
    {
     "data": {
      "text/plain": [
       "'stackedensemble'"
      ]
     },
     "execution_count": 414,
     "metadata": {},
     "output_type": "execute_result"
    }
   ],
   "source": [
    "\n",
    "best_model.algo"
   ]
  },
  {
   "cell_type": "markdown",
   "metadata": {},
   "source": [
    "Here We got our best model for regression is Stacked Ensemble"
   ]
  },
  {
   "cell_type": "markdown",
   "metadata": {},
   "source": [
    "### Classification"
   ]
  },
  {
   "cell_type": "markdown",
   "metadata": {},
   "source": [
    "    Classification and class probability estimation attempts to predict, for each individual in a population, to which class does this individual belongs to. Generally the classes are independent of each other.\n",
    "    A Scoring model when applied to an individual produces a score representing the probability that the individual belongs to each class. In our customer response example, a scoring model can evaluate each individual customer and produce a score of how likely each customer is to respond to the offer. "
   ]
  },
  {
   "cell_type": "code",
   "execution_count": 487,
   "metadata": {},
   "outputs": [],
   "source": [
    "df[y] = df[y].asfactor()"
   ]
  },
  {
   "cell_type": "code",
   "execution_count": 488,
   "metadata": {},
   "outputs": [
    {
     "name": "stdout",
     "output_type": "stream",
     "text": [
      "Rows:112323\n",
      "Cols:11\n",
      "\n",
      "\n"
     ]
    },
    {
     "data": {
      "text/html": [
       "<table>\n",
       "<thead>\n",
       "<tr><th>       </th><th>serious_dlqin2yrs  </th><th>revolving_utilization_of_unsecured_lines  </th><th>age               </th><th>number_of_time30-59_days_past_due_not_worse  </th><th>debt_ratio        </th><th>monthly_income    </th><th>number_of_open_credit_lines_and_loans  </th><th>number_of_times90_days_late  </th><th>number_real_estate_loans_or_lines  </th><th>number_of_time60-89_days_past_due_not_worse  </th><th>number_of_dependents  </th></tr>\n",
       "</thead>\n",
       "<tbody>\n",
       "<tr><td>type   </td><td>enum               </td><td>real                                      </td><td>int               </td><td>int                                          </td><td>real              </td><td>int               </td><td>int                                    </td><td>int                          </td><td>int                                </td><td>int                                          </td><td>int                   </td></tr>\n",
       "<tr><td>mins   </td><td>                   </td><td>0.0                                       </td><td>0.0               </td><td>0.0                                          </td><td>0.0               </td><td>0.0               </td><td>0.0                                    </td><td>0.0                          </td><td>0.0                                </td><td>0.0                                          </td><td>0.0                   </td></tr>\n",
       "<tr><td>mean   </td><td>                   </td><td>6.005897411355533                         </td><td>52.27537547964355 </td><td>0.41559609340918613                          </td><td>357.4651328919827 </td><td>6411.766192142301 </td><td>8.453139606313934                      </td><td>0.2596173535251017           </td><td>1.0209752232401204                 </td><td>0.23346064474773645                          </td><td>0.7369906430561862    </td></tr>\n",
       "<tr><td>maxs   </td><td>                   </td><td>50708.0                                   </td><td>109.0             </td><td>98.0                                         </td><td>329664.0          </td><td>3008750.0         </td><td>58.0                                   </td><td>98.0                         </td><td>54.0                               </td><td>98.0                                         </td><td>20.0                  </td></tr>\n",
       "<tr><td>sigma  </td><td>                   </td><td>247.70505630651013                        </td><td>14.761283520968048</td><td>4.107521260500588                            </td><td>2263.6701050002466</td><td>13816.202944926777</td><td>5.134852914037315                      </td><td>4.083151219236157            </td><td>1.1293877371377157                 </td><td>4.068274013963124                            </td><td>1.1061604334440214    </td></tr>\n",
       "<tr><td>zeros  </td><td>                   </td><td>8166                                      </td><td>1                 </td><td>94267                                        </td><td>3045              </td><td>1860              </td><td>1418                                   </td><td>106024                       </td><td>41881                              </td><td>106605                                       </td><td>68012                 </td></tr>\n",
       "<tr><td>missing</td><td>0                  </td><td>0                                         </td><td>0                 </td><td>0                                            </td><td>0                 </td><td>0                 </td><td>0                                      </td><td>0                            </td><td>0                                  </td><td>0                                            </td><td>0                     </td></tr>\n",
       "<tr><td>0      </td><td>0                  </td><td>0.957151019                               </td><td>40.0              </td><td>0.0                                          </td><td>0.121876201       </td><td>2600.0            </td><td>4.0                                    </td><td>0.0                          </td><td>0.0                                </td><td>0.0                                          </td><td>1.0                   </td></tr>\n",
       "<tr><td>1      </td><td>0                  </td><td>0.65818014                                </td><td>38.0              </td><td>1.0                                          </td><td>0.085113375       </td><td>3042.0            </td><td>2.0                                    </td><td>1.0                          </td><td>0.0                                </td><td>0.0                                          </td><td>0.0                   </td></tr>\n",
       "<tr><td>2      </td><td>0                  </td><td>0.233809776                               </td><td>30.0              </td><td>0.0                                          </td><td>0.036049682       </td><td>3300.0            </td><td>5.0                                    </td><td>0.0                          </td><td>0.0                                </td><td>0.0                                          </td><td>0.0                   </td></tr>\n",
       "<tr><td>3      </td><td>0                  </td><td>0.9072394                                 </td><td>49.0              </td><td>1.0                                          </td><td>0.024925695       </td><td>63588.0           </td><td>7.0                                    </td><td>0.0                          </td><td>1.0                                </td><td>0.0                                          </td><td>0.0                   </td></tr>\n",
       "<tr><td>4      </td><td>0                  </td><td>0.213178682                               </td><td>74.0              </td><td>0.0                                          </td><td>0.375606969       </td><td>3500.0            </td><td>3.0                                    </td><td>0.0                          </td><td>1.0                                </td><td>0.0                                          </td><td>1.0                   </td></tr>\n",
       "<tr><td>5      </td><td>0                  </td><td>0.189169052                               </td><td>57.0              </td><td>0.0                                          </td><td>0.606290901       </td><td>23684.0           </td><td>9.0                                    </td><td>0.0                          </td><td>4.0                                </td><td>0.0                                          </td><td>2.0                   </td></tr>\n",
       "<tr><td>6      </td><td>0                  </td><td>0.01879812                                </td><td>51.0              </td><td>0.0                                          </td><td>0.53152876        </td><td>6501.0            </td><td>7.0                                    </td><td>0.0                          </td><td>2.0                                </td><td>0.0                                          </td><td>2.0                   </td></tr>\n",
       "<tr><td>7      </td><td>0                  </td><td>0.010351857                               </td><td>46.0              </td><td>0.0                                          </td><td>0.298354075       </td><td>12454.0           </td><td>13.0                                   </td><td>0.0                          </td><td>2.0                                </td><td>0.0                                          </td><td>2.0                   </td></tr>\n",
       "<tr><td>8      </td><td>1                  </td><td>0.964672555                               </td><td>40.0              </td><td>3.0                                          </td><td>0.3829647470000001</td><td>13700.0           </td><td>9.0                                    </td><td>3.0                          </td><td>1.0                                </td><td>1.0                                          </td><td>2.0                   </td></tr>\n",
       "<tr><td>9      </td><td>0                  </td><td>0.166284079                               </td><td>53.0              </td><td>0.0                                          </td><td>0.18827406        </td><td>8800.0            </td><td>7.0                                    </td><td>0.0                          </td><td>0.0                                </td><td>0.0                                          </td><td>0.0                   </td></tr>\n",
       "</tbody>\n",
       "</table>"
      ]
     },
     "metadata": {},
     "output_type": "display_data"
    }
   ],
   "source": [
    "df.describe()"
   ]
  },
  {
   "cell_type": "code",
   "execution_count": 489,
   "metadata": {},
   "outputs": [],
   "source": [
    "# Set up AutoML\n",
    "\n",
    "aml = H2OAutoML(max_runtime_secs=run_time)"
   ]
  },
  {
   "cell_type": "code",
   "execution_count": 492,
   "metadata": {},
   "outputs": [
    {
     "name": "stdout",
     "output_type": "stream",
     "text": [
      "AutoML progress: |████████████████████████████████████████████████████████| 100%\n"
     ]
    }
   ],
   "source": [
    "model_start_time = time.time()\n",
    "  \n",
    "try:\n",
    "  aml.train(x=X,y=y,training_frame=df)  # Change training_frame=train\n",
    "except Exception as e:\n",
    "  logging.critical('aml.train') \n",
    "  h2o.download_all_logs(dirname=logs_path, filename=logfile)      \n",
    "  h2o.cluster().shutdown()   \n",
    "  sys.exit(4)"
   ]
  },
  {
   "cell_type": "code",
   "execution_count": 493,
   "metadata": {},
   "outputs": [],
   "source": [
    "\n",
    "d=meta_data['model_execution_time']\n",
    "d['classification']=(time.time() - model_start_time)\n",
    "meta_data['model_execution_time'] = d"
   ]
  },
  {
   "cell_type": "code",
   "execution_count": 494,
   "metadata": {},
   "outputs": [
    {
     "data": {
      "text/plain": [
       "{'model_execution_time': {'classification': 380.9481301307678,\n",
       "  'regression': 359.5283033847809}}"
      ]
     },
     "execution_count": 494,
     "metadata": {},
     "output_type": "execute_result"
    }
   ],
   "source": [
    "meta_data"
   ]
  },
  {
   "cell_type": "code",
   "execution_count": 495,
   "metadata": {},
   "outputs": [
    {
     "data": {
      "text/html": [
       "<table>\n",
       "<thead>\n",
       "<tr><th>model_id                                           </th><th style=\"text-align: right;\">     auc</th><th style=\"text-align: right;\">  logloss</th><th style=\"text-align: right;\">  mean_per_class_error</th><th style=\"text-align: right;\">    rmse</th><th style=\"text-align: right;\">      mse</th></tr>\n",
       "</thead>\n",
       "<tbody>\n",
       "<tr><td>StackedEnsemble_AllModels_AutoML_20190301_191420   </td><td style=\"text-align: right;\">0.846014</td><td style=\"text-align: right;\"> 0.193077</td><td style=\"text-align: right;\">              0.28984 </td><td style=\"text-align: right;\">0.227027</td><td style=\"text-align: right;\">0.0515414</td></tr>\n",
       "<tr><td>StackedEnsemble_BestOfFamily_AutoML_20190301_191420</td><td style=\"text-align: right;\">0.844625</td><td style=\"text-align: right;\"> 0.193601</td><td style=\"text-align: right;\">              0.282639</td><td style=\"text-align: right;\">0.227554</td><td style=\"text-align: right;\">0.051781 </td></tr>\n",
       "<tr><td>XRT_1_AutoML_20190301_191420                       </td><td style=\"text-align: right;\">0.842994</td><td style=\"text-align: right;\"> 0.186246</td><td style=\"text-align: right;\">              0.288015</td><td style=\"text-align: right;\">0.225174</td><td style=\"text-align: right;\">0.0507032</td></tr>\n",
       "<tr><td>GBM_4_AutoML_20190301_191420                       </td><td style=\"text-align: right;\">0.839511</td><td style=\"text-align: right;\"> 0.188284</td><td style=\"text-align: right;\">              0.283848</td><td style=\"text-align: right;\">0.22643 </td><td style=\"text-align: right;\">0.0512704</td></tr>\n",
       "<tr><td>GBM_3_AutoML_20190301_191420                       </td><td style=\"text-align: right;\">0.837898</td><td style=\"text-align: right;\"> 0.187452</td><td style=\"text-align: right;\">              0.286148</td><td style=\"text-align: right;\">0.225375</td><td style=\"text-align: right;\">0.0507937</td></tr>\n",
       "<tr><td>GBM_2_AutoML_20190301_191420                       </td><td style=\"text-align: right;\">0.8378  </td><td style=\"text-align: right;\"> 0.18689 </td><td style=\"text-align: right;\">              0.293173</td><td style=\"text-align: right;\">0.224791</td><td style=\"text-align: right;\">0.050531 </td></tr>\n",
       "<tr><td>DRF_1_AutoML_20190301_191420                       </td><td style=\"text-align: right;\">0.837108</td><td style=\"text-align: right;\"> 0.189729</td><td style=\"text-align: right;\">              0.285753</td><td style=\"text-align: right;\">0.226598</td><td style=\"text-align: right;\">0.0513466</td></tr>\n",
       "<tr><td>GBM_1_AutoML_20190301_191420                       </td><td style=\"text-align: right;\">0.835814</td><td style=\"text-align: right;\"> 0.187793</td><td style=\"text-align: right;\">              0.295386</td><td style=\"text-align: right;\">0.225189</td><td style=\"text-align: right;\">0.0507102</td></tr>\n",
       "<tr><td>GLM_grid_1_AutoML_20190301_191420_model_1          </td><td style=\"text-align: right;\">0.701238</td><td style=\"text-align: right;\"> 0.225532</td><td style=\"text-align: right;\">              0.367968</td><td style=\"text-align: right;\">0.240387</td><td style=\"text-align: right;\">0.057786 </td></tr>\n",
       "</tbody>\n",
       "</table>"
      ]
     },
     "metadata": {},
     "output_type": "display_data"
    },
    {
     "name": "stdout",
     "output_type": "stream",
     "text": [
      "\n"
     ]
    }
   ],
   "source": [
    "\n",
    "print(aml.leaderboard)"
   ]
  },
  {
   "cell_type": "code",
   "execution_count": 496,
   "metadata": {},
   "outputs": [],
   "source": [
    "best_model = h2o.get_model(aml.leaderboard[0,'model_id'])\n"
   ]
  },
  {
   "cell_type": "code",
   "execution_count": 497,
   "metadata": {},
   "outputs": [
    {
     "data": {
      "text/plain": [
       "'stackedensemble'"
      ]
     },
     "execution_count": 497,
     "metadata": {},
     "output_type": "execute_result"
    }
   ],
   "source": [
    "best_model.algo"
   ]
  },
  {
   "cell_type": "markdown",
   "metadata": {},
   "source": [
    "For classification also we got our best model as Stacked Ensemble"
   ]
  },
  {
   "cell_type": "code",
   "execution_count": 500,
   "metadata": {},
   "outputs": [
    {
     "name": "stdout",
     "output_type": "stream",
     "text": [
      "0.1799986431462912\n"
     ]
    }
   ],
   "source": [
    "print(best_model.rmse(train = True))"
   ]
  },
  {
   "cell_type": "code",
   "execution_count": 498,
   "metadata": {},
   "outputs": [
    {
     "name": "stdout",
     "output_type": "stream",
     "text": [
      "0.9572753240493919\n"
     ]
    }
   ],
   "source": [
    "print(best_model.auc(train = True))"
   ]
  },
  {
   "cell_type": "code",
   "execution_count": 499,
   "metadata": {},
   "outputs": [
    {
     "name": "stdout",
     "output_type": "stream",
     "text": [
      "0.13116402575786068\n"
     ]
    }
   ],
   "source": [
    "\n",
    "print(best_model.logloss(train = True))"
   ]
  },
  {
   "cell_type": "markdown",
   "metadata": {},
   "source": [
    "  - The best AUC score is 0.9538828675746901\n",
    "  - The best logloss score is 0.13823047113084244\n",
    "  - The best RMSE Value is 0.18729468157687296"
   ]
  },
  {
   "cell_type": "code",
   "execution_count": 501,
   "metadata": {},
   "outputs": [
    {
     "name": "stdout",
     "output_type": "stream",
     "text": [
      "Confusion Matrix (Act/Pred) for max f1 @ threshold = 0.22090517696777381: \n"
     ]
    },
    {
     "data": {
      "text/html": [
       "<div style=\"overflow:auto\"><table style=\"width:50%\"><tr><td><b></b></td>\n",
       "<td><b>0</b></td>\n",
       "<td><b>1</b></td>\n",
       "<td><b>Error</b></td>\n",
       "<td><b>Rate</b></td></tr>\n",
       "<tr><td>0</td>\n",
       "<td>103430.0</td>\n",
       "<td>1348.0</td>\n",
       "<td>0.0129</td>\n",
       "<td> (1348.0/104778.0)</td></tr>\n",
       "<tr><td>1</td>\n",
       "<td>2918.0</td>\n",
       "<td>4627.0</td>\n",
       "<td>0.3867</td>\n",
       "<td> (2918.0/7545.0)</td></tr>\n",
       "<tr><td>Total</td>\n",
       "<td>106348.0</td>\n",
       "<td>5975.0</td>\n",
       "<td>0.038</td>\n",
       "<td> (4266.0/112323.0)</td></tr></table></div>"
      ],
      "text/plain": [
       "       0       1     Error    Rate\n",
       "-----  ------  ----  -------  -----------------\n",
       "0      103430  1348  0.0129   (1348.0/104778.0)\n",
       "1      2918    4627  0.3867   (2918.0/7545.0)\n",
       "Total  106348  5975  0.038    (4266.0/112323.0)"
      ]
     },
     "metadata": {},
     "output_type": "display_data"
    },
    {
     "name": "stdout",
     "output_type": "stream",
     "text": [
      "Confusion Matrix (Act/Pred) for max f2 @ threshold = 0.07714928993623582: \n"
     ]
    },
    {
     "data": {
      "text/html": [
       "<div style=\"overflow:auto\"><table style=\"width:50%\"><tr><td><b></b></td>\n",
       "<td><b>0</b></td>\n",
       "<td><b>1</b></td>\n",
       "<td><b>Error</b></td>\n",
       "<td><b>Rate</b></td></tr>\n",
       "<tr><td>0</td>\n",
       "<td>98476.0</td>\n",
       "<td>6302.0</td>\n",
       "<td>0.0601</td>\n",
       "<td> (6302.0/104778.0)</td></tr>\n",
       "<tr><td>1</td>\n",
       "<td>1569.0</td>\n",
       "<td>5976.0</td>\n",
       "<td>0.208</td>\n",
       "<td> (1569.0/7545.0)</td></tr>\n",
       "<tr><td>Total</td>\n",
       "<td>100045.0</td>\n",
       "<td>12278.0</td>\n",
       "<td>0.0701</td>\n",
       "<td> (7871.0/112323.0)</td></tr></table></div>"
      ],
      "text/plain": [
       "       0       1      Error    Rate\n",
       "-----  ------  -----  -------  -----------------\n",
       "0      98476   6302   0.0601   (6302.0/104778.0)\n",
       "1      1569    5976   0.208    (1569.0/7545.0)\n",
       "Total  100045  12278  0.0701   (7871.0/112323.0)"
      ]
     },
     "metadata": {},
     "output_type": "display_data"
    },
    {
     "name": "stdout",
     "output_type": "stream",
     "text": [
      "Confusion Matrix (Act/Pred) for max f0point5 @ threshold = 0.4030842618081184: \n"
     ]
    },
    {
     "data": {
      "text/html": [
       "<div style=\"overflow:auto\"><table style=\"width:50%\"><tr><td><b></b></td>\n",
       "<td><b>0</b></td>\n",
       "<td><b>1</b></td>\n",
       "<td><b>Error</b></td>\n",
       "<td><b>Rate</b></td></tr>\n",
       "<tr><td>0</td>\n",
       "<td>104484.0</td>\n",
       "<td>294.0</td>\n",
       "<td>0.0028</td>\n",
       "<td> (294.0/104778.0)</td></tr>\n",
       "<tr><td>1</td>\n",
       "<td>3870.0</td>\n",
       "<td>3675.0</td>\n",
       "<td>0.5129</td>\n",
       "<td> (3870.0/7545.0)</td></tr>\n",
       "<tr><td>Total</td>\n",
       "<td>108354.0</td>\n",
       "<td>3969.0</td>\n",
       "<td>0.0371</td>\n",
       "<td> (4164.0/112323.0)</td></tr></table></div>"
      ],
      "text/plain": [
       "       0       1     Error    Rate\n",
       "-----  ------  ----  -------  -----------------\n",
       "0      104484  294   0.0028   (294.0/104778.0)\n",
       "1      3870    3675  0.5129   (3870.0/7545.0)\n",
       "Total  108354  3969  0.0371   (4164.0/112323.0)"
      ]
     },
     "metadata": {},
     "output_type": "display_data"
    },
    {
     "name": "stdout",
     "output_type": "stream",
     "text": [
      "Confusion Matrix (Act/Pred) for max accuracy @ threshold = 0.3235439612003334: \n"
     ]
    },
    {
     "data": {
      "text/html": [
       "<div style=\"overflow:auto\"><table style=\"width:50%\"><tr><td><b></b></td>\n",
       "<td><b>0</b></td>\n",
       "<td><b>1</b></td>\n",
       "<td><b>Error</b></td>\n",
       "<td><b>Rate</b></td></tr>\n",
       "<tr><td>0</td>\n",
       "<td>104219.0</td>\n",
       "<td>559.0</td>\n",
       "<td>0.0053</td>\n",
       "<td> (559.0/104778.0)</td></tr>\n",
       "<tr><td>1</td>\n",
       "<td>3449.0</td>\n",
       "<td>4096.0</td>\n",
       "<td>0.4571</td>\n",
       "<td> (3449.0/7545.0)</td></tr>\n",
       "<tr><td>Total</td>\n",
       "<td>107668.0</td>\n",
       "<td>4655.0</td>\n",
       "<td>0.0357</td>\n",
       "<td> (4008.0/112323.0)</td></tr></table></div>"
      ],
      "text/plain": [
       "       0       1     Error    Rate\n",
       "-----  ------  ----  -------  -----------------\n",
       "0      104219  559   0.0053   (559.0/104778.0)\n",
       "1      3449    4096  0.4571   (3449.0/7545.0)\n",
       "Total  107668  4655  0.0357   (4008.0/112323.0)"
      ]
     },
     "metadata": {},
     "output_type": "display_data"
    },
    {
     "name": "stdout",
     "output_type": "stream",
     "text": [
      "Confusion Matrix (Act/Pred) for max precision @ threshold = 0.9671882250489233: \n"
     ]
    },
    {
     "data": {
      "text/html": [
       "<div style=\"overflow:auto\"><table style=\"width:50%\"><tr><td><b></b></td>\n",
       "<td><b>0</b></td>\n",
       "<td><b>1</b></td>\n",
       "<td><b>Error</b></td>\n",
       "<td><b>Rate</b></td></tr>\n",
       "<tr><td>0</td>\n",
       "<td>104778.0</td>\n",
       "<td>0.0</td>\n",
       "<td>0.0</td>\n",
       "<td> (0.0/104778.0)</td></tr>\n",
       "<tr><td>1</td>\n",
       "<td>7535.0</td>\n",
       "<td>10.0</td>\n",
       "<td>0.9987</td>\n",
       "<td> (7535.0/7545.0)</td></tr>\n",
       "<tr><td>Total</td>\n",
       "<td>112313.0</td>\n",
       "<td>10.0</td>\n",
       "<td>0.0671</td>\n",
       "<td> (7535.0/112323.0)</td></tr></table></div>"
      ],
      "text/plain": [
       "       0       1    Error    Rate\n",
       "-----  ------  ---  -------  -----------------\n",
       "0      104778  0    0        (0.0/104778.0)\n",
       "1      7535    10   0.9987   (7535.0/7545.0)\n",
       "Total  112313  10   0.0671   (7535.0/112323.0)"
      ]
     },
     "metadata": {},
     "output_type": "display_data"
    },
    {
     "name": "stdout",
     "output_type": "stream",
     "text": [
      "Confusion Matrix (Act/Pred) for max recall @ threshold = 0.030367497936321375: \n"
     ]
    },
    {
     "data": {
      "text/html": [
       "<div style=\"overflow:auto\"><table style=\"width:50%\"><tr><td><b></b></td>\n",
       "<td><b>0</b></td>\n",
       "<td><b>1</b></td>\n",
       "<td><b>Error</b></td>\n",
       "<td><b>Rate</b></td></tr>\n",
       "<tr><td>0</td>\n",
       "<td>24708.0</td>\n",
       "<td>80070.0</td>\n",
       "<td>0.7642</td>\n",
       "<td> (80070.0/104778.0)</td></tr>\n",
       "<tr><td>1</td>\n",
       "<td>0.0</td>\n",
       "<td>7545.0</td>\n",
       "<td>0.0</td>\n",
       "<td> (0.0/7545.0)</td></tr>\n",
       "<tr><td>Total</td>\n",
       "<td>24708.0</td>\n",
       "<td>87615.0</td>\n",
       "<td>0.7129</td>\n",
       "<td> (80070.0/112323.0)</td></tr></table></div>"
      ],
      "text/plain": [
       "       0      1      Error    Rate\n",
       "-----  -----  -----  -------  ------------------\n",
       "0      24708  80070  0.7642   (80070.0/104778.0)\n",
       "1      0      7545   0        (0.0/7545.0)\n",
       "Total  24708  87615  0.7129   (80070.0/112323.0)"
      ]
     },
     "metadata": {},
     "output_type": "display_data"
    },
    {
     "name": "stdout",
     "output_type": "stream",
     "text": [
      "Confusion Matrix (Act/Pred) for max precision @ threshold = 0.9671882250489233: \n"
     ]
    },
    {
     "data": {
      "text/html": [
       "<div style=\"overflow:auto\"><table style=\"width:50%\"><tr><td><b></b></td>\n",
       "<td><b>0</b></td>\n",
       "<td><b>1</b></td>\n",
       "<td><b>Error</b></td>\n",
       "<td><b>Rate</b></td></tr>\n",
       "<tr><td>0</td>\n",
       "<td>104778.0</td>\n",
       "<td>0.0</td>\n",
       "<td>0.0</td>\n",
       "<td> (0.0/104778.0)</td></tr>\n",
       "<tr><td>1</td>\n",
       "<td>7535.0</td>\n",
       "<td>10.0</td>\n",
       "<td>0.9987</td>\n",
       "<td> (7535.0/7545.0)</td></tr>\n",
       "<tr><td>Total</td>\n",
       "<td>112313.0</td>\n",
       "<td>10.0</td>\n",
       "<td>0.0671</td>\n",
       "<td> (7535.0/112323.0)</td></tr></table></div>"
      ],
      "text/plain": [
       "       0       1    Error    Rate\n",
       "-----  ------  ---  -------  -----------------\n",
       "0      104778  0    0        (0.0/104778.0)\n",
       "1      7535    10   0.9987   (7535.0/7545.0)\n",
       "Total  112313  10   0.0671   (7535.0/112323.0)"
      ]
     },
     "metadata": {},
     "output_type": "display_data"
    },
    {
     "name": "stdout",
     "output_type": "stream",
     "text": [
      "Confusion Matrix (Act/Pred) for max absolute_mcc @ threshold = 0.29441661698298915: \n"
     ]
    },
    {
     "data": {
      "text/html": [
       "<div style=\"overflow:auto\"><table style=\"width:50%\"><tr><td><b></b></td>\n",
       "<td><b>0</b></td>\n",
       "<td><b>1</b></td>\n",
       "<td><b>Error</b></td>\n",
       "<td><b>Rate</b></td></tr>\n",
       "<tr><td>0</td>\n",
       "<td>104060.0</td>\n",
       "<td>718.0</td>\n",
       "<td>0.0069</td>\n",
       "<td> (718.0/104778.0)</td></tr>\n",
       "<tr><td>1</td>\n",
       "<td>3317.0</td>\n",
       "<td>4228.0</td>\n",
       "<td>0.4396</td>\n",
       "<td> (3317.0/7545.0)</td></tr>\n",
       "<tr><td>Total</td>\n",
       "<td>107377.0</td>\n",
       "<td>4946.0</td>\n",
       "<td>0.0359</td>\n",
       "<td> (4035.0/112323.0)</td></tr></table></div>"
      ],
      "text/plain": [
       "       0       1     Error    Rate\n",
       "-----  ------  ----  -------  -----------------\n",
       "0      104060  718   0.0069   (718.0/104778.0)\n",
       "1      3317    4228  0.4396   (3317.0/7545.0)\n",
       "Total  107377  4946  0.0359   (4035.0/112323.0)"
      ]
     },
     "metadata": {},
     "output_type": "display_data"
    },
    {
     "name": "stdout",
     "output_type": "stream",
     "text": [
      "Confusion Matrix (Act/Pred) for max min_per_class_accuracy @ threshold = 0.04988947942376848: \n"
     ]
    },
    {
     "data": {
      "text/html": [
       "<div style=\"overflow:auto\"><table style=\"width:50%\"><tr><td><b></b></td>\n",
       "<td><b>0</b></td>\n",
       "<td><b>1</b></td>\n",
       "<td><b>Error</b></td>\n",
       "<td><b>Rate</b></td></tr>\n",
       "<tr><td>0</td>\n",
       "<td>91546.0</td>\n",
       "<td>13232.0</td>\n",
       "<td>0.1263</td>\n",
       "<td> (13232.0/104778.0)</td></tr>\n",
       "<tr><td>1</td>\n",
       "<td>937.0</td>\n",
       "<td>6608.0</td>\n",
       "<td>0.1242</td>\n",
       "<td> (937.0/7545.0)</td></tr>\n",
       "<tr><td>Total</td>\n",
       "<td>92483.0</td>\n",
       "<td>19840.0</td>\n",
       "<td>0.1261</td>\n",
       "<td> (14169.0/112323.0)</td></tr></table></div>"
      ],
      "text/plain": [
       "       0      1      Error    Rate\n",
       "-----  -----  -----  -------  ------------------\n",
       "0      91546  13232  0.1263   (13232.0/104778.0)\n",
       "1      937    6608   0.1242   (937.0/7545.0)\n",
       "Total  92483  19840  0.1261   (14169.0/112323.0)"
      ]
     },
     "metadata": {},
     "output_type": "display_data"
    },
    {
     "name": "stdout",
     "output_type": "stream",
     "text": [
      "Confusion Matrix (Act/Pred) for max mean_per_class_accuracy @ threshold = 0.052458264383833636: \n"
     ]
    },
    {
     "data": {
      "text/html": [
       "<div style=\"overflow:auto\"><table style=\"width:50%\"><tr><td><b></b></td>\n",
       "<td><b>0</b></td>\n",
       "<td><b>1</b></td>\n",
       "<td><b>Error</b></td>\n",
       "<td><b>Rate</b></td></tr>\n",
       "<tr><td>0</td>\n",
       "<td>92863.0</td>\n",
       "<td>11915.0</td>\n",
       "<td>0.1137</td>\n",
       "<td> (11915.0/104778.0)</td></tr>\n",
       "<tr><td>1</td>\n",
       "<td>1023.0</td>\n",
       "<td>6522.0</td>\n",
       "<td>0.1356</td>\n",
       "<td> (1023.0/7545.0)</td></tr>\n",
       "<tr><td>Total</td>\n",
       "<td>93886.0</td>\n",
       "<td>18437.0</td>\n",
       "<td>0.1152</td>\n",
       "<td> (12938.0/112323.0)</td></tr></table></div>"
      ],
      "text/plain": [
       "       0      1      Error    Rate\n",
       "-----  -----  -----  -------  ------------------\n",
       "0      92863  11915  0.1137   (11915.0/104778.0)\n",
       "1      1023   6522   0.1356   (1023.0/7545.0)\n",
       "Total  93886  18437  0.1152   (12938.0/112323.0)"
      ]
     },
     "metadata": {},
     "output_type": "display_data"
    },
    {
     "data": {
      "text/plain": [
       "[, , , , , , , , , ]"
      ]
     },
     "execution_count": 501,
     "metadata": {},
     "output_type": "execute_result"
    }
   ],
   "source": [
    "cf=best_model.confusion_matrix(metrics=[\"f1\",\"f2\",\"f0point5\",\"accuracy\",\"precision\",\"recall\",\"specificity\",\"absolute_mcc\",\"min_per_class_accuracy\",\"mean_per_class_accuracy\"])\n",
    "cf"
   ]
  },
  {
   "cell_type": "markdown",
   "metadata": {},
   "source": [
    "### Ensemble Exploration\n",
    "\n",
    "    To understand how the ensemble works, let's take a peek inside the Stacked Ensemble \"All Models\" model. The \"All Models\" ensemble is an ensemble of all of the individual models in the AutoML run. This is often the top performing model on the leaderboard."
   ]
  },
  {
   "cell_type": "code",
   "execution_count": 530,
   "metadata": {},
   "outputs": [
    {
     "data": {
      "text/html": [
       "<div>\n",
       "<style scoped>\n",
       "    .dataframe tbody tr th:only-of-type {\n",
       "        vertical-align: middle;\n",
       "    }\n",
       "\n",
       "    .dataframe tbody tr th {\n",
       "        vertical-align: top;\n",
       "    }\n",
       "\n",
       "    .dataframe thead th {\n",
       "        text-align: right;\n",
       "    }\n",
       "</style>\n",
       "<table border=\"1\" class=\"dataframe\">\n",
       "  <thead>\n",
       "    <tr style=\"text-align: right;\">\n",
       "      <th></th>\n",
       "      <th>model_id</th>\n",
       "      <th>auc</th>\n",
       "      <th>logloss</th>\n",
       "      <th>mean_per_class_error</th>\n",
       "      <th>rmse</th>\n",
       "      <th>mse</th>\n",
       "    </tr>\n",
       "  </thead>\n",
       "  <tbody>\n",
       "    <tr>\n",
       "      <th>0</th>\n",
       "      <td>StackedEnsemble_AllModels_AutoML_20190301_191420</td>\n",
       "      <td>0.846014</td>\n",
       "      <td>0.193077</td>\n",
       "      <td>0.289840</td>\n",
       "      <td>0.227027</td>\n",
       "      <td>0.051541</td>\n",
       "    </tr>\n",
       "    <tr>\n",
       "      <th>1</th>\n",
       "      <td>StackedEnsemble_BestOfFamily_AutoML_20190301_191420</td>\n",
       "      <td>0.844625</td>\n",
       "      <td>0.193601</td>\n",
       "      <td>0.282639</td>\n",
       "      <td>0.227554</td>\n",
       "      <td>0.051781</td>\n",
       "    </tr>\n",
       "    <tr>\n",
       "      <th>2</th>\n",
       "      <td>XRT_1_AutoML_20190301_191420</td>\n",
       "      <td>0.842994</td>\n",
       "      <td>0.186246</td>\n",
       "      <td>0.288015</td>\n",
       "      <td>0.225174</td>\n",
       "      <td>0.050703</td>\n",
       "    </tr>\n",
       "    <tr>\n",
       "      <th>3</th>\n",
       "      <td>GBM_4_AutoML_20190301_191420</td>\n",
       "      <td>0.839511</td>\n",
       "      <td>0.188284</td>\n",
       "      <td>0.283848</td>\n",
       "      <td>0.226430</td>\n",
       "      <td>0.051270</td>\n",
       "    </tr>\n",
       "    <tr>\n",
       "      <th>4</th>\n",
       "      <td>GBM_3_AutoML_20190301_191420</td>\n",
       "      <td>0.837898</td>\n",
       "      <td>0.187452</td>\n",
       "      <td>0.286148</td>\n",
       "      <td>0.225375</td>\n",
       "      <td>0.050794</td>\n",
       "    </tr>\n",
       "    <tr>\n",
       "      <th>5</th>\n",
       "      <td>GBM_2_AutoML_20190301_191420</td>\n",
       "      <td>0.837800</td>\n",
       "      <td>0.186890</td>\n",
       "      <td>0.293173</td>\n",
       "      <td>0.224791</td>\n",
       "      <td>0.050531</td>\n",
       "    </tr>\n",
       "    <tr>\n",
       "      <th>6</th>\n",
       "      <td>DRF_1_AutoML_20190301_191420</td>\n",
       "      <td>0.837108</td>\n",
       "      <td>0.189729</td>\n",
       "      <td>0.285753</td>\n",
       "      <td>0.226598</td>\n",
       "      <td>0.051347</td>\n",
       "    </tr>\n",
       "    <tr>\n",
       "      <th>7</th>\n",
       "      <td>GBM_1_AutoML_20190301_191420</td>\n",
       "      <td>0.835814</td>\n",
       "      <td>0.187793</td>\n",
       "      <td>0.295386</td>\n",
       "      <td>0.225189</td>\n",
       "      <td>0.050710</td>\n",
       "    </tr>\n",
       "    <tr>\n",
       "      <th>8</th>\n",
       "      <td>GLM_grid_1_AutoML_20190301_191420_model_1</td>\n",
       "      <td>0.701238</td>\n",
       "      <td>0.225532</td>\n",
       "      <td>0.367968</td>\n",
       "      <td>0.240387</td>\n",
       "      <td>0.057786</td>\n",
       "    </tr>\n",
       "  </tbody>\n",
       "</table>\n",
       "</div>"
      ],
      "text/plain": [
       "                                              model_id       auc   logloss  \\\n",
       "0     StackedEnsemble_AllModels_AutoML_20190301_191420  0.846014  0.193077   \n",
       "1  StackedEnsemble_BestOfFamily_AutoML_20190301_191420  0.844625  0.193601   \n",
       "2                         XRT_1_AutoML_20190301_191420  0.842994  0.186246   \n",
       "3                         GBM_4_AutoML_20190301_191420  0.839511  0.188284   \n",
       "4                         GBM_3_AutoML_20190301_191420  0.837898  0.187452   \n",
       "5                         GBM_2_AutoML_20190301_191420  0.837800  0.186890   \n",
       "6                         DRF_1_AutoML_20190301_191420  0.837108  0.189729   \n",
       "7                         GBM_1_AutoML_20190301_191420  0.835814  0.187793   \n",
       "8            GLM_grid_1_AutoML_20190301_191420_model_1  0.701238  0.225532   \n",
       "\n",
       "   mean_per_class_error      rmse       mse  \n",
       "0              0.289840  0.227027  0.051541  \n",
       "1              0.282639  0.227554  0.051781  \n",
       "2              0.288015  0.225174  0.050703  \n",
       "3              0.283848  0.226430  0.051270  \n",
       "4              0.286148  0.225375  0.050794  \n",
       "5              0.293173  0.224791  0.050531  \n",
       "6              0.285753  0.226598  0.051347  \n",
       "7              0.295386  0.225189  0.050710  \n",
       "8              0.367968  0.240387  0.057786  "
      ]
     },
     "execution_count": 530,
     "metadata": {},
     "output_type": "execute_result"
    }
   ],
   "source": [
    "aml_leaderboard_df=aml.leaderboard.as_data_frame()\n",
    "aml_leaderboard_df"
   ]
  },
  {
   "cell_type": "markdown",
   "metadata": {},
   "source": [
    "### Getting models\n",
    "Individul models can ne found through a search of the leader board or directly by the name."
   ]
  },
  {
   "cell_type": "code",
   "execution_count": 531,
   "metadata": {},
   "outputs": [],
   "source": [
    "# Get model ids for all models in the AutoML Leaderboard\n",
    "model_ids = list(aml.leaderboard['model_id'].as_data_frame().iloc[:,0])\n",
    "# Get the \"All Models\" Stacked Ensemble model\n",
    "se = h2o.get_model([mid for mid in model_ids if \"StackedEnsemble_AllModels\" in mid][0])\n",
    "# Get the Stacked Ensemble metalearner model\n",
    "metalearner = h2o.get_model(aml.leader.metalearner()['name'])"
   ]
  },
  {
   "cell_type": "code",
   "execution_count": 532,
   "metadata": {},
   "outputs": [
    {
     "data": {
      "text/plain": [
       "{'DRF_1_AutoML_20190301_191420': 0.2032175151936983,\n",
       " 'GBM_1_AutoML_20190301_191420': 0.11023208563284805,\n",
       " 'GBM_2_AutoML_20190301_191420': 0.15660145704469372,\n",
       " 'GBM_3_AutoML_20190301_191420': 0.0,\n",
       " 'GBM_4_AutoML_20190301_191420': 0.0,\n",
       " 'GLM_grid_1_AutoML_20190301_191420_model_1': 0.0443635566751419,\n",
       " 'Intercept': -3.0405029920056506,\n",
       " 'XRT_1_AutoML_20190301_191420': 0.3876655882365876}"
      ]
     },
     "execution_count": 532,
     "metadata": {},
     "output_type": "execute_result"
    }
   ],
   "source": [
    "\n",
    "metalearner.coef_norm()"
   ]
  },
  {
   "cell_type": "code",
   "execution_count": 533,
   "metadata": {},
   "outputs": [
    {
     "data": {
      "image/png": "[encoded data removed]",
      "text/plain": [
       "<Figure size 1008x720 with 1 Axes>"
      ]
     },
     "metadata": {
      "needs_background": "light"
     },
     "output_type": "display_data"
    }
   ],
   "source": [
    "%matplotlib inline\n",
    "metalearner.std_coef_plot()"
   ]
  },
  {
   "cell_type": "code",
   "execution_count": 534,
   "metadata": {},
   "outputs": [
    {
     "data": {
      "text/html": [
       "<div>\n",
       "<style scoped>\n",
       "    .dataframe tbody tr th:only-of-type {\n",
       "        vertical-align: middle;\n",
       "    }\n",
       "\n",
       "    .dataframe tbody tr th {\n",
       "        vertical-align: top;\n",
       "    }\n",
       "\n",
       "    .dataframe thead th {\n",
       "        text-align: right;\n",
       "    }\n",
       "</style>\n",
       "<table border=\"1\" class=\"dataframe\">\n",
       "  <thead>\n",
       "    <tr style=\"text-align: right;\">\n",
       "      <th></th>\n",
       "      <th>model_id</th>\n",
       "      <th>auc</th>\n",
       "      <th>logloss</th>\n",
       "      <th>mean_per_class_error</th>\n",
       "      <th>rmse</th>\n",
       "      <th>mse</th>\n",
       "    </tr>\n",
       "  </thead>\n",
       "  <tbody>\n",
       "    <tr>\n",
       "      <th>0</th>\n",
       "      <td>StackedEnsemble_AllModels_AutoML_20190301_191420</td>\n",
       "      <td>0.846014</td>\n",
       "      <td>0.193077</td>\n",
       "      <td>0.289840</td>\n",
       "      <td>0.227027</td>\n",
       "      <td>0.051541</td>\n",
       "    </tr>\n",
       "    <tr>\n",
       "      <th>1</th>\n",
       "      <td>StackedEnsemble_BestOfFamily_AutoML_20190301_191420</td>\n",
       "      <td>0.844625</td>\n",
       "      <td>0.193601</td>\n",
       "      <td>0.282639</td>\n",
       "      <td>0.227554</td>\n",
       "      <td>0.051781</td>\n",
       "    </tr>\n",
       "    <tr>\n",
       "      <th>2</th>\n",
       "      <td>XRT_1_AutoML_20190301_191420</td>\n",
       "      <td>0.842994</td>\n",
       "      <td>0.186246</td>\n",
       "      <td>0.288015</td>\n",
       "      <td>0.225174</td>\n",
       "      <td>0.050703</td>\n",
       "    </tr>\n",
       "    <tr>\n",
       "      <th>3</th>\n",
       "      <td>GBM_4_AutoML_20190301_191420</td>\n",
       "      <td>0.839511</td>\n",
       "      <td>0.188284</td>\n",
       "      <td>0.283848</td>\n",
       "      <td>0.226430</td>\n",
       "      <td>0.051270</td>\n",
       "    </tr>\n",
       "    <tr>\n",
       "      <th>4</th>\n",
       "      <td>GBM_3_AutoML_20190301_191420</td>\n",
       "      <td>0.837898</td>\n",
       "      <td>0.187452</td>\n",
       "      <td>0.286148</td>\n",
       "      <td>0.225375</td>\n",
       "      <td>0.050794</td>\n",
       "    </tr>\n",
       "  </tbody>\n",
       "</table>\n",
       "</div>"
      ],
      "text/plain": [
       "                                              model_id       auc   logloss  \\\n",
       "0     StackedEnsemble_AllModels_AutoML_20190301_191420  0.846014  0.193077   \n",
       "1  StackedEnsemble_BestOfFamily_AutoML_20190301_191420  0.844625  0.193601   \n",
       "2                         XRT_1_AutoML_20190301_191420  0.842994  0.186246   \n",
       "3                         GBM_4_AutoML_20190301_191420  0.839511  0.188284   \n",
       "4                         GBM_3_AutoML_20190301_191420  0.837898  0.187452   \n",
       "\n",
       "   mean_per_class_error      rmse       mse  \n",
       "0              0.289840  0.227027  0.051541  \n",
       "1              0.282639  0.227554  0.051781  \n",
       "2              0.288015  0.225174  0.050703  \n",
       "3              0.283848  0.226430  0.051270  \n",
       "4              0.286148  0.225375  0.050794  "
      ]
     },
     "execution_count": 534,
     "metadata": {},
     "output_type": "execute_result"
    }
   ],
   "source": [
    "##Getting a model directly by name\n",
    "\n",
    "aml_leaderboard_df.head()"
   ]
  },
  {
   "cell_type": "code",
   "execution_count": 535,
   "metadata": {},
   "outputs": [
    {
     "name": "stdout",
     "output_type": "stream",
     "text": [
      "XRT_1_AutoML_20190301_191420\n",
      "GBM_4_AutoML_20190301_191420\n",
      "GBM_3_AutoML_20190301_191420\n",
      "GBM_2_AutoML_20190301_191420\n",
      "DRF_1_AutoML_20190301_191420\n",
      "GBM_1_AutoML_20190301_191420\n",
      "GLM_grid_1_AutoML_20190301_191420_model_1\n",
      "model_id  XRT_1_AutoML_20190301_191420\n"
     ]
    }
   ],
   "source": [
    "m_id=''\n",
    "for model in aml_leaderboard_df['model_id']:\n",
    "    if 'StackedEnsemble' not in model:\n",
    "      print (model)\n",
    "      if m_id=='':\n",
    "            m_id=model\n",
    "print (\"model_id \", m_id)"
   ]
  },
  {
   "cell_type": "code",
   "execution_count": 536,
   "metadata": {},
   "outputs": [
    {
     "name": "stdout",
     "output_type": "stream",
     "text": [
      "drf\n"
     ]
    }
   ],
   "source": [
    "non_stacked= h2o.get_model(m_id)\n",
    "print (non_stacked.algo)"
   ]
  },
  {
   "cell_type": "code",
   "execution_count": 537,
   "metadata": {},
   "outputs": [
    {
     "data": {
      "text/plain": [
       "['F0point5',\n",
       " 'F1',\n",
       " 'F2',\n",
       " '__class__',\n",
       " '__delattr__',\n",
       " '__dict__',\n",
       " '__dir__',\n",
       " '__doc__',\n",
       " '__eq__',\n",
       " '__format__',\n",
       " '__ge__',\n",
       " '__getattr__',\n",
       " '__getattribute__',\n",
       " '__gt__',\n",
       " '__hash__',\n",
       " '__init__',\n",
       " '__init_subclass__',\n",
       " '__le__',\n",
       " '__lt__',\n",
       " '__module__',\n",
       " '__ne__',\n",
       " '__new__',\n",
       " '__reduce__',\n",
       " '__reduce_ex__',\n",
       " '__repr__',\n",
       " '__setattr__',\n",
       " '__sizeof__',\n",
       " '__str__',\n",
       " '__subclasshook__',\n",
       " '__weakref__',\n",
       " '_bc',\n",
       " '_bcin',\n",
       " '_check_and_save_parm',\n",
       " '_check_targets',\n",
       " '_compute_algo',\n",
       " '_end_time',\n",
       " '_estimator_type',\n",
       " '_future',\n",
       " '_get_metrics',\n",
       " '_have_mojo',\n",
       " '_have_pojo',\n",
       " '_id',\n",
       " '_is_xvalidated',\n",
       " '_job',\n",
       " '_keyify_if_h2oframe',\n",
       " '_metrics_class',\n",
       " '_model_json',\n",
       " '_parms',\n",
       " '_plot',\n",
       " '_requires_training_frame',\n",
       " '_resolve_model',\n",
       " '_run_time',\n",
       " '_start_time',\n",
       " '_verify_training_frame_params',\n",
       " '_xval_keys',\n",
       " 'accuracy',\n",
       " 'actual_params',\n",
       " 'aic',\n",
       " 'algo',\n",
       " 'auc',\n",
       " 'balance_classes',\n",
       " 'biases',\n",
       " 'binomial_double_trees',\n",
       " 'build_tree_one_node',\n",
       " 'calibrate_model',\n",
       " 'calibration_frame',\n",
       " 'categorical_encoding',\n",
       " 'catoffsets',\n",
       " 'checkpoint',\n",
       " 'class_sampling_factors',\n",
       " 'coef',\n",
       " 'coef_norm',\n",
       " 'col_sample_rate_change_per_level',\n",
       " 'col_sample_rate_per_tree',\n",
       " 'confusion_matrix',\n",
       " 'convert_H2OXGBoostParams_2_XGBoostParams',\n",
       " 'cross_validation_fold_assignment',\n",
       " 'cross_validation_holdout_predictions',\n",
       " 'cross_validation_metrics_summary',\n",
       " 'cross_validation_models',\n",
       " 'cross_validation_predictions',\n",
       " 'custom_metric_func',\n",
       " 'deepfeatures',\n",
       " 'default_params',\n",
       " 'distribution',\n",
       " 'download_mojo',\n",
       " 'download_pojo',\n",
       " 'end_time',\n",
       " 'error',\n",
       " 'export_checkpoints_dir',\n",
       " 'fallout',\n",
       " 'find_idx_by_threshold',\n",
       " 'find_threshold_by_max_metric',\n",
       " 'fit',\n",
       " 'fnr',\n",
       " 'fold_assignment',\n",
       " 'fold_column',\n",
       " 'fpr',\n",
       " 'full_parameters',\n",
       " 'gains_lift',\n",
       " 'get_params',\n",
       " 'get_xval_models',\n",
       " 'gini',\n",
       " 'have_mojo',\n",
       " 'have_pojo',\n",
       " 'histogram_type',\n",
       " 'ignore_const_cols',\n",
       " 'ignored_columns',\n",
       " 'is_cross_validated',\n",
       " 'join',\n",
       " 'keep_cross_validation_fold_assignment',\n",
       " 'keep_cross_validation_models',\n",
       " 'keep_cross_validation_predictions',\n",
       " 'logloss',\n",
       " 'mae',\n",
       " 'max_after_balance_size',\n",
       " 'max_confusion_matrix_size',\n",
       " 'max_depth',\n",
       " 'max_hit_ratio_k',\n",
       " 'max_per_class_error',\n",
       " 'max_runtime_secs',\n",
       " 'mcc',\n",
       " 'mean_per_class_error',\n",
       " 'mean_residual_deviance',\n",
       " 'metric',\n",
       " 'min_rows',\n",
       " 'min_split_improvement',\n",
       " 'missrate',\n",
       " 'mixin',\n",
       " 'model_id',\n",
       " 'model_performance',\n",
       " 'mse',\n",
       " 'mtries',\n",
       " 'nbins',\n",
       " 'nbins_cats',\n",
       " 'nbins_top_level',\n",
       " 'nfolds',\n",
       " 'normmul',\n",
       " 'normsub',\n",
       " 'ntrees',\n",
       " 'null_degrees_of_freedom',\n",
       " 'null_deviance',\n",
       " 'offset_column',\n",
       " 'params',\n",
       " 'parms',\n",
       " 'partial_plot',\n",
       " 'plot',\n",
       " 'pprint_coef',\n",
       " 'precision',\n",
       " 'predict',\n",
       " 'predict_leaf_node_assignment',\n",
       " 'r2',\n",
       " 'r2_stopping',\n",
       " 'recall',\n",
       " 'residual_degrees_of_freedom',\n",
       " 'residual_deviance',\n",
       " 'respmul',\n",
       " 'response_column',\n",
       " 'respsub',\n",
       " 'rmse',\n",
       " 'rmsle',\n",
       " 'roc',\n",
       " 'rotation',\n",
       " 'run_time',\n",
       " 'sample_rate',\n",
       " 'sample_rate_per_class',\n",
       " 'save_model_details',\n",
       " 'save_mojo',\n",
       " 'score_each_iteration',\n",
       " 'score_history',\n",
       " 'score_tree_interval',\n",
       " 'scoring_history',\n",
       " 'seed',\n",
       " 'sensitivity',\n",
       " 'set_params',\n",
       " 'show',\n",
       " 'specificity',\n",
       " 'staged_predict_proba',\n",
       " 'start',\n",
       " 'start_time',\n",
       " 'std_coef_plot',\n",
       " 'stopping_metric',\n",
       " 'stopping_rounds',\n",
       " 'stopping_tolerance',\n",
       " 'summary',\n",
       " 'tnr',\n",
       " 'tpr',\n",
       " 'train',\n",
       " 'training_frame',\n",
       " 'type',\n",
       " 'validation_frame',\n",
       " 'varimp',\n",
       " 'varimp_plot',\n",
       " 'weights',\n",
       " 'weights_column',\n",
       " 'xval_keys',\n",
       " 'xvals']"
      ]
     },
     "execution_count": 537,
     "metadata": {},
     "output_type": "execute_result"
    }
   ],
   "source": [
    "dir(non_stacked)"
   ]
  },
  {
   "cell_type": "markdown",
   "metadata": {},
   "source": [
    "    Note that since this is a pandas dataframe the data can be saved.\n",
    "\n",
    "    The type of exploration depends on the learner. If the learner isn't an ensemble then ensemble exploration doesn't make sense.\n",
    "\n",
    "    Examine the variable importance of the metalearner (combiner) algorithm in the ensemble. This shows us how much each base learner is contributing to the ensemble. The AutoML Stacked Ensembles use the default metalearner algorithm (GLM with non-negative weights), so the variable importance of the metalearner is actually the standardized coefficient magnitudes of the GLM."
   ]
  },
  {
   "cell_type": "markdown",
   "metadata": {},
   "source": [
    "### Making predictions\n",
    "If one wants predictions the user will do this on new data.\n",
    "\n",
    "Here we are taking 10% of original file just to show the syntax"
   ]
  },
  {
   "cell_type": "code",
   "execution_count": 540,
   "metadata": {},
   "outputs": [],
   "source": [
    "\n",
    "# split into training and test for showing how to predict\n",
    "train, test = df.split_frame([0.8])"
   ]
  },
  {
   "cell_type": "markdown",
   "metadata": {},
   "source": [
    "### Predict Using Leader Model\n",
    "    If you need to generate predictions on a test set, you can make predictions on the \"H2OAutoML\" object directly, or on the leader model object."
   ]
  },
  {
   "cell_type": "code",
   "execution_count": 541,
   "metadata": {},
   "outputs": [
    {
     "name": "stdout",
     "output_type": "stream",
     "text": [
      "stackedensemble prediction progress: |████████████████████████████████████| 100%\n"
     ]
    },
    {
     "data": {
      "text/html": [
       "<table>\n",
       "<thead>\n",
       "<tr><th style=\"text-align: right;\">  predict</th><th style=\"text-align: right;\">       p0</th><th style=\"text-align: right;\">       p1</th></tr>\n",
       "</thead>\n",
       "<tbody>\n",
       "<tr><td style=\"text-align: right;\">        1</td><td style=\"text-align: right;\">0.80625  </td><td style=\"text-align: right;\">0.19375  </td></tr>\n",
       "<tr><td style=\"text-align: right;\">        0</td><td style=\"text-align: right;\">0.971178 </td><td style=\"text-align: right;\">0.0288224</td></tr>\n",
       "<tr><td style=\"text-align: right;\">        0</td><td style=\"text-align: right;\">0.967863 </td><td style=\"text-align: right;\">0.0321365</td></tr>\n",
       "<tr><td style=\"text-align: right;\">        1</td><td style=\"text-align: right;\">0.0795171</td><td style=\"text-align: right;\">0.920483 </td></tr>\n",
       "<tr><td style=\"text-align: right;\">        0</td><td style=\"text-align: right;\">0.968169 </td><td style=\"text-align: right;\">0.031831 </td></tr>\n",
       "<tr><td style=\"text-align: right;\">        0</td><td style=\"text-align: right;\">0.964198 </td><td style=\"text-align: right;\">0.0358019</td></tr>\n",
       "<tr><td style=\"text-align: right;\">        0</td><td style=\"text-align: right;\">0.967335 </td><td style=\"text-align: right;\">0.0326655</td></tr>\n",
       "<tr><td style=\"text-align: right;\">        0</td><td style=\"text-align: right;\">0.969222 </td><td style=\"text-align: right;\">0.030778 </td></tr>\n",
       "<tr><td style=\"text-align: right;\">        0</td><td style=\"text-align: right;\">0.969324 </td><td style=\"text-align: right;\">0.0306757</td></tr>\n",
       "<tr><td style=\"text-align: right;\">        0</td><td style=\"text-align: right;\">0.942102 </td><td style=\"text-align: right;\">0.0578982</td></tr>\n",
       "</tbody>\n",
       "</table>"
      ]
     },
     "metadata": {},
     "output_type": "display_data"
    },
    {
     "data": {
      "text/plain": []
     },
     "execution_count": 541,
     "metadata": {},
     "output_type": "execute_result"
    }
   ],
   "source": [
    "pred = aml.predict(test)\n",
    "pred.head()"
   ]
  },
  {
   "cell_type": "markdown",
   "metadata": {},
   "source": [
    "### Model_performance()\n",
    "    The standard model_performance() method can be applied to the AutoML leader model and a test set to generate an H2O model performance object."
   ]
  },
  {
   "cell_type": "code",
   "execution_count": 543,
   "metadata": {},
   "outputs": [
    {
     "name": "stdout",
     "output_type": "stream",
     "text": [
      "\n",
      "ModelMetricsBinomialGLM: stackedensemble\n",
      "** Reported on test data. **\n",
      "\n",
      "MSE: 0.032040594260232126\n",
      "RMSE: 0.17899886664510511\n",
      "LogLoss: 0.13046539652303094\n",
      "Null degrees of freedom: 22467\n",
      "Residual degrees of freedom: 22462\n",
      "Null deviance: 11064.850271582705\n",
      "Residual deviance: 5862.593058158918\n",
      "AIC: 5874.593058158918\n",
      "AUC: 0.9574366388149465\n",
      "pr_auc: 0.7669475262655542\n",
      "Gini: 0.9148732776298929\n",
      "Confusion Matrix (Act/Pred) for max f1 @ threshold = 0.2122626882917041: \n"
     ]
    },
    {
     "data": {
      "text/html": [
       "<div style=\"overflow:auto\"><table style=\"width:50%\"><tr><td><b></b></td>\n",
       "<td><b>0</b></td>\n",
       "<td><b>1</b></td>\n",
       "<td><b>Error</b></td>\n",
       "<td><b>Rate</b></td></tr>\n",
       "<tr><td>0</td>\n",
       "<td>20677.0</td>\n",
       "<td>282.0</td>\n",
       "<td>0.0135</td>\n",
       "<td> (282.0/20959.0)</td></tr>\n",
       "<tr><td>1</td>\n",
       "<td>564.0</td>\n",
       "<td>945.0</td>\n",
       "<td>0.3738</td>\n",
       "<td> (564.0/1509.0)</td></tr>\n",
       "<tr><td>Total</td>\n",
       "<td>21241.0</td>\n",
       "<td>1227.0</td>\n",
       "<td>0.0377</td>\n",
       "<td> (846.0/22468.0)</td></tr></table></div>"
      ],
      "text/plain": [
       "       0      1     Error    Rate\n",
       "-----  -----  ----  -------  ---------------\n",
       "0      20677  282   0.0135   (282.0/20959.0)\n",
       "1      564    945   0.3738   (564.0/1509.0)\n",
       "Total  21241  1227  0.0377   (846.0/22468.0)"
      ]
     },
     "metadata": {},
     "output_type": "display_data"
    },
    {
     "name": "stdout",
     "output_type": "stream",
     "text": [
      "Maximum Metrics: Maximum metrics at their respective thresholds\n",
      "\n"
     ]
    },
    {
     "data": {
      "text/html": [
       "<div style=\"overflow:auto\"><table style=\"width:50%\"><tr><td><b>metric</b></td>\n",
       "<td><b>threshold</b></td>\n",
       "<td><b>value</b></td>\n",
       "<td><b>idx</b></td></tr>\n",
       "<tr><td>max f1</td>\n",
       "<td>0.2122627</td>\n",
       "<td>0.6907895</td>\n",
       "<td>224.0</td></tr>\n",
       "<tr><td>max f2</td>\n",
       "<td>0.0774005</td>\n",
       "<td>0.7034176</td>\n",
       "<td>305.0</td></tr>\n",
       "<tr><td>max f0point5</td>\n",
       "<td>0.3425624</td>\n",
       "<td>0.7937903</td>\n",
       "<td>177.0</td></tr>\n",
       "<tr><td>max accuracy</td>\n",
       "<td>0.3360771</td>\n",
       "<td>0.9651949</td>\n",
       "<td>180.0</td></tr>\n",
       "<tr><td>max precision</td>\n",
       "<td>0.9676722</td>\n",
       "<td>1.0</td>\n",
       "<td>0.0</td></tr>\n",
       "<tr><td>max recall</td>\n",
       "<td>0.0320721</td>\n",
       "<td>1.0</td>\n",
       "<td>382.0</td></tr>\n",
       "<tr><td>max specificity</td>\n",
       "<td>0.9676722</td>\n",
       "<td>1.0</td>\n",
       "<td>0.0</td></tr>\n",
       "<tr><td>max absolute_mcc</td>\n",
       "<td>0.3360771</td>\n",
       "<td>0.6834495</td>\n",
       "<td>180.0</td></tr>\n",
       "<tr><td>max min_per_class_accuracy</td>\n",
       "<td>0.0506516</td>\n",
       "<td>0.8721007</td>\n",
       "<td>336.0</td></tr>\n",
       "<tr><td>max mean_per_class_accuracy</td>\n",
       "<td>0.0604368</td>\n",
       "<td>0.8771546</td>\n",
       "<td>323.0</td></tr></table></div>"
      ],
      "text/plain": [
       "metric                       threshold    value     idx\n",
       "---------------------------  -----------  --------  -----\n",
       "max f1                       0.212263     0.690789  224\n",
       "max f2                       0.0774005    0.703418  305\n",
       "max f0point5                 0.342562     0.79379   177\n",
       "max accuracy                 0.336077     0.965195  180\n",
       "max precision                0.967672     1         0\n",
       "max recall                   0.0320721    1         382\n",
       "max specificity              0.967672     1         0\n",
       "max absolute_mcc             0.336077     0.68345   180\n",
       "max min_per_class_accuracy   0.0506516    0.872101  336\n",
       "max mean_per_class_accuracy  0.0604368    0.877155  323"
      ]
     },
     "metadata": {},
     "output_type": "display_data"
    },
    {
     "name": "stdout",
     "output_type": "stream",
     "text": [
      "Gains/Lift Table: Avg response rate:  6.72 %, avg score:  6.96 %\n",
      "\n"
     ]
    },
    {
     "data": {
      "text/html": [
       "<div style=\"overflow:auto\"><table style=\"width:50%\"><tr><td><b></b></td>\n",
       "<td><b>group</b></td>\n",
       "<td><b>cumulative_data_fraction</b></td>\n",
       "<td><b>lower_threshold</b></td>\n",
       "<td><b>lift</b></td>\n",
       "<td><b>cumulative_lift</b></td>\n",
       "<td><b>response_rate</b></td>\n",
       "<td><b>score</b></td>\n",
       "<td><b>cumulative_response_rate</b></td>\n",
       "<td><b>cumulative_score</b></td>\n",
       "<td><b>capture_rate</b></td>\n",
       "<td><b>cumulative_capture_rate</b></td>\n",
       "<td><b>gain</b></td>\n",
       "<td><b>cumulative_gain</b></td></tr>\n",
       "<tr><td></td>\n",
       "<td>1</td>\n",
       "<td>0.0100142</td>\n",
       "<td>0.8510864</td>\n",
       "<td>14.8893307</td>\n",
       "<td>14.8893307</td>\n",
       "<td>1.0</td>\n",
       "<td>0.9062140</td>\n",
       "<td>1.0</td>\n",
       "<td>0.9062140</td>\n",
       "<td>0.1491054</td>\n",
       "<td>0.1491054</td>\n",
       "<td>1388.9330683</td>\n",
       "<td>1388.9330683</td></tr>\n",
       "<tr><td></td>\n",
       "<td>2</td>\n",
       "<td>0.0200285</td>\n",
       "<td>0.7018738</td>\n",
       "<td>14.8893307</td>\n",
       "<td>14.8893307</td>\n",
       "<td>1.0</td>\n",
       "<td>0.7798704</td>\n",
       "<td>1.0</td>\n",
       "<td>0.8430422</td>\n",
       "<td>0.1491054</td>\n",
       "<td>0.2982107</td>\n",
       "<td>1388.9330683</td>\n",
       "<td>1388.9330683</td></tr>\n",
       "<tr><td></td>\n",
       "<td>3</td>\n",
       "<td>0.0300427</td>\n",
       "<td>0.5005474</td>\n",
       "<td>13.6320094</td>\n",
       "<td>14.4702236</td>\n",
       "<td>0.9155556</td>\n",
       "<td>0.6071139</td>\n",
       "<td>0.9718519</td>\n",
       "<td>0.7643994</td>\n",
       "<td>0.1365142</td>\n",
       "<td>0.4347250</td>\n",
       "<td>1263.2009425</td>\n",
       "<td>1347.0223597</td></tr>\n",
       "<tr><td></td>\n",
       "<td>4</td>\n",
       "<td>0.0400125</td>\n",
       "<td>0.3437209</td>\n",
       "<td>10.2364148</td>\n",
       "<td>13.4153035</td>\n",
       "<td>0.6875</td>\n",
       "<td>0.4172806</td>\n",
       "<td>0.9010011</td>\n",
       "<td>0.6779093</td>\n",
       "<td>0.1020543</td>\n",
       "<td>0.5367793</td>\n",
       "<td>923.6414844</td>\n",
       "<td>1241.5303507</td></tr>\n",
       "<tr><td></td>\n",
       "<td>5</td>\n",
       "<td>0.0500267</td>\n",
       "<td>0.2389833</td>\n",
       "<td>6.2204315</td>\n",
       "<td>11.9750489</td>\n",
       "<td>0.4177778</td>\n",
       "<td>0.2856843</td>\n",
       "<td>0.8042705</td>\n",
       "<td>0.5993945</td>\n",
       "<td>0.0622929</td>\n",
       "<td>0.5990722</td>\n",
       "<td>522.0431485</td>\n",
       "<td>1097.5048876</td></tr>\n",
       "<tr><td></td>\n",
       "<td>6</td>\n",
       "<td>0.1000089</td>\n",
       "<td>0.0870264</td>\n",
       "<td>3.3146328</td>\n",
       "<td>7.6467680</td>\n",
       "<td>0.2226180</td>\n",
       "<td>0.1398518</td>\n",
       "<td>0.5135737</td>\n",
       "<td>0.3697254</td>\n",
       "<td>0.1656726</td>\n",
       "<td>0.7647449</td>\n",
       "<td>231.4632832</td>\n",
       "<td>664.6767961</td></tr>\n",
       "<tr><td></td>\n",
       "<td>7</td>\n",
       "<td>0.1500356</td>\n",
       "<td>0.0571831</td>\n",
       "<td>1.7485691</td>\n",
       "<td>5.6801184</td>\n",
       "<td>0.1174377</td>\n",
       "<td>0.0696844</td>\n",
       "<td>0.3814892</td>\n",
       "<td>0.2696821</td>\n",
       "<td>0.0874751</td>\n",
       "<td>0.8522200</td>\n",
       "<td>74.8569084</td>\n",
       "<td>468.0118439</td></tr>\n",
       "<tr><td></td>\n",
       "<td>8</td>\n",
       "<td>0.2000178</td>\n",
       "<td>0.0461530</td>\n",
       "<td>0.9015801</td>\n",
       "<td>4.4860155</td>\n",
       "<td>0.0605521</td>\n",
       "<td>0.0507446</td>\n",
       "<td>0.3012906</td>\n",
       "<td>0.2149721</td>\n",
       "<td>0.0450630</td>\n",
       "<td>0.8972830</td>\n",
       "<td>-9.8419870</td>\n",
       "<td>348.6015519</td></tr>\n",
       "<tr><td></td>\n",
       "<td>9</td>\n",
       "<td>0.3000267</td>\n",
       "<td>0.0379719</td>\n",
       "<td>0.6957631</td>\n",
       "<td>3.2225981</td>\n",
       "<td>0.0467290</td>\n",
       "<td>0.0410916</td>\n",
       "<td>0.2164367</td>\n",
       "<td>0.1570119</td>\n",
       "<td>0.0695825</td>\n",
       "<td>0.9668655</td>\n",
       "<td>-30.4236884</td>\n",
       "<td>222.2598052</td></tr>\n",
       "<tr><td></td>\n",
       "<td>10</td>\n",
       "<td>0.3999911</td>\n",
       "<td>0.0355059</td>\n",
       "<td>0.2055072</td>\n",
       "<td>2.4685771</td>\n",
       "<td>0.0138023</td>\n",
       "<td>0.0365417</td>\n",
       "<td>0.1657950</td>\n",
       "<td>0.1269044</td>\n",
       "<td>0.0205434</td>\n",
       "<td>0.9874089</td>\n",
       "<td>-79.4492764</td>\n",
       "<td>146.8577136</td></tr>\n",
       "<tr><td></td>\n",
       "<td>11</td>\n",
       "<td>0.5</td>\n",
       "<td>0.0340030</td>\n",
       "<td>0.0927684</td>\n",
       "<td>1.9933731</td>\n",
       "<td>0.0062305</td>\n",
       "<td>0.0347228</td>\n",
       "<td>0.1338793</td>\n",
       "<td>0.1084664</td>\n",
       "<td>0.0092777</td>\n",
       "<td>0.9966865</td>\n",
       "<td>-90.7231585</td>\n",
       "<td>99.3373095</td></tr>\n",
       "<tr><td></td>\n",
       "<td>12</td>\n",
       "<td>0.6000089</td>\n",
       "<td>0.0326715</td>\n",
       "<td>0.0198789</td>\n",
       "<td>1.6644330</td>\n",
       "<td>0.0013351</td>\n",
       "<td>0.0333348</td>\n",
       "<td>0.1117870</td>\n",
       "<td>0.0959436</td>\n",
       "<td>0.0019881</td>\n",
       "<td>0.9986746</td>\n",
       "<td>-98.0121054</td>\n",
       "<td>66.4433005</td></tr>\n",
       "<tr><td></td>\n",
       "<td>13</td>\n",
       "<td>0.6999733</td>\n",
       "<td>0.0313357</td>\n",
       "<td>0.0132585</td>\n",
       "<td>1.4286259</td>\n",
       "<td>0.0008905</td>\n",
       "<td>0.0319909</td>\n",
       "<td>0.0959496</td>\n",
       "<td>0.0868104</td>\n",
       "<td>0.0013254</td>\n",
       "<td>1.0</td>\n",
       "<td>-98.6741469</td>\n",
       "<td>42.8625930</td></tr>\n",
       "<tr><td></td>\n",
       "<td>14</td>\n",
       "<td>0.7999822</td>\n",
       "<td>0.0300396</td>\n",
       "<td>0.0</td>\n",
       "<td>1.2500278</td>\n",
       "<td>0.0</td>\n",
       "<td>0.0306924</td>\n",
       "<td>0.0839546</td>\n",
       "<td>0.0797948</td>\n",
       "<td>0.0</td>\n",
       "<td>1.0</td>\n",
       "<td>-100.0</td>\n",
       "<td>25.0027818</td></tr>\n",
       "<tr><td></td>\n",
       "<td>15</td>\n",
       "<td>0.8999911</td>\n",
       "<td>0.0290217</td>\n",
       "<td>0.0</td>\n",
       "<td>1.1111221</td>\n",
       "<td>0.0</td>\n",
       "<td>0.0295011</td>\n",
       "<td>0.0746254</td>\n",
       "<td>0.0742061</td>\n",
       "<td>0.0</td>\n",
       "<td>1.0</td>\n",
       "<td>-100.0</td>\n",
       "<td>11.1122101</td></tr>\n",
       "<tr><td></td>\n",
       "<td>16</td>\n",
       "<td>1.0</td>\n",
       "<td>0.0276849</td>\n",
       "<td>0.0</td>\n",
       "<td>1.0</td>\n",
       "<td>0.0</td>\n",
       "<td>0.0286331</td>\n",
       "<td>0.0671622</td>\n",
       "<td>0.0696484</td>\n",
       "<td>0.0</td>\n",
       "<td>1.0</td>\n",
       "<td>-100.0</td>\n",
       "<td>0.0</td></tr></table></div>"
      ],
      "text/plain": [
       "    group    cumulative_data_fraction    lower_threshold    lift       cumulative_lift    response_rate    score      cumulative_response_rate    cumulative_score    capture_rate    cumulative_capture_rate    gain      cumulative_gain\n",
       "--  -------  --------------------------  -----------------  ---------  -----------------  ---------------  ---------  --------------------------  ------------------  --------------  -------------------------  --------  -----------------\n",
       "    1        0.0100142                   0.851086           14.8893    14.8893            1                0.906214   1                           0.906214            0.149105        0.149105                   1388.93   1388.93\n",
       "    2        0.0200285                   0.701874           14.8893    14.8893            1                0.77987    1                           0.843042            0.149105        0.298211                   1388.93   1388.93\n",
       "    3        0.0300427                   0.500547           13.632     14.4702            0.915556         0.607114   0.971852                    0.764399            0.136514        0.434725                   1263.2    1347.02\n",
       "    4        0.0400125                   0.343721           10.2364    13.4153            0.6875           0.417281   0.901001                    0.677909            0.102054        0.536779                   923.641   1241.53\n",
       "    5        0.0500267                   0.238983           6.22043    11.975             0.417778         0.285684   0.80427                     0.599395            0.0622929       0.599072                   522.043   1097.5\n",
       "    6        0.100009                    0.0870264          3.31463    7.64677            0.222618         0.139852   0.513574                    0.369725            0.165673        0.764745                   231.463   664.677\n",
       "    7        0.150036                    0.0571831          1.74857    5.68012            0.117438         0.0696844  0.381489                    0.269682            0.0874751       0.85222                    74.8569   468.012\n",
       "    8        0.200018                    0.046153           0.90158    4.48602            0.0605521        0.0507446  0.301291                    0.214972            0.045063        0.897283                   -9.84199  348.602\n",
       "    9        0.300027                    0.0379719          0.695763   3.2226             0.046729         0.0410916  0.216437                    0.157012            0.0695825       0.966865                   -30.4237  222.26\n",
       "    10       0.399991                    0.0355059          0.205507   2.46858            0.0138023        0.0365417  0.165795                    0.126904            0.0205434       0.987409                   -79.4493  146.858\n",
       "    11       0.5                         0.034003           0.0927684  1.99337            0.00623053       0.0347228  0.133879                    0.108466            0.00927767      0.996687                   -90.7232  99.3373\n",
       "    12       0.600009                    0.0326715          0.0198789  1.66443            0.00133511       0.0333348  0.111787                    0.0959436           0.00198807      0.998675                   -98.0121  66.4433\n",
       "    13       0.699973                    0.0313357          0.0132585  1.42863            0.000890472      0.0319909  0.0959496                   0.0868104           0.00132538      1                          -98.6741  42.8626\n",
       "    14       0.799982                    0.0300396          0          1.25003            0                0.0306924  0.0839546                   0.0797948           0               1                          -100      25.0028\n",
       "    15       0.899991                    0.0290217          0          1.11112            0                0.0295011  0.0746254                   0.0742061           0               1                          -100      11.1122\n",
       "    16       1                           0.0276849          0          1                  0                0.0286331  0.0671622                   0.0696484           0               1                          -100      0"
      ]
     },
     "metadata": {},
     "output_type": "display_data"
    },
    {
     "name": "stdout",
     "output_type": "stream",
     "text": [
      "\n"
     ]
    },
    {
     "data": {
      "text/plain": []
     },
     "execution_count": 543,
     "metadata": {},
     "output_type": "execute_result"
    }
   ],
   "source": [
    "perf = aml.leader.model_performance(test)\n",
    "perf"
   ]
  },
  {
   "cell_type": "code",
   "execution_count": 544,
   "metadata": {},
   "outputs": [
    {
     "data": {
      "text/plain": [
       "['F0point5',\n",
       " 'F1',\n",
       " 'F2',\n",
       " '__class__',\n",
       " '__delattr__',\n",
       " '__dict__',\n",
       " '__dir__',\n",
       " '__doc__',\n",
       " '__eq__',\n",
       " '__format__',\n",
       " '__ge__',\n",
       " '__getattr__',\n",
       " '__getattribute__',\n",
       " '__getitem__',\n",
       " '__gt__',\n",
       " '__hash__',\n",
       " '__init__',\n",
       " '__init_subclass__',\n",
       " '__le__',\n",
       " '__lt__',\n",
       " '__module__',\n",
       " '__ne__',\n",
       " '__new__',\n",
       " '__reduce__',\n",
       " '__reduce_ex__',\n",
       " '__repr__',\n",
       " '__setattr__',\n",
       " '__sizeof__',\n",
       " '__str__',\n",
       " '__subclasshook__',\n",
       " '__weakref__',\n",
       " '_algo',\n",
       " '_bc',\n",
       " '_bcin',\n",
       " '_has',\n",
       " '_metric_json',\n",
       " '_on_train',\n",
       " '_on_valid',\n",
       " '_on_xval',\n",
       " 'accuracy',\n",
       " 'aic',\n",
       " 'auc',\n",
       " 'confusion_matrix',\n",
       " 'custom_metric_name',\n",
       " 'custom_metric_value',\n",
       " 'error',\n",
       " 'fallout',\n",
       " 'find_idx_by_threshold',\n",
       " 'find_threshold_by_max_metric',\n",
       " 'fnr',\n",
       " 'fpr',\n",
       " 'fprs',\n",
       " 'gains_lift',\n",
       " 'gini',\n",
       " 'logloss',\n",
       " 'mae',\n",
       " 'make',\n",
       " 'max_per_class_error',\n",
       " 'mcc',\n",
       " 'mean_per_class_error',\n",
       " 'mean_residual_deviance',\n",
       " 'metric',\n",
       " 'missrate',\n",
       " 'mse',\n",
       " 'nobs',\n",
       " 'null_degrees_of_freedom',\n",
       " 'null_deviance',\n",
       " 'plot',\n",
       " 'pr_auc',\n",
       " 'precision',\n",
       " 'r2',\n",
       " 'recall',\n",
       " 'residual_degrees_of_freedom',\n",
       " 'residual_deviance',\n",
       " 'rmse',\n",
       " 'rmsle',\n",
       " 'sensitivity',\n",
       " 'show',\n",
       " 'specificity',\n",
       " 'tnr',\n",
       " 'tpr',\n",
       " 'tprs']"
      ]
     },
     "execution_count": 544,
     "metadata": {},
     "output_type": "execute_result"
    }
   ],
   "source": [
    "dir(perf)"
   ]
  },
  {
   "cell_type": "code",
   "execution_count": 545,
   "metadata": {},
   "outputs": [
    {
     "name": "stdout",
     "output_type": "stream",
     "text": [
      "Confusion Matrix (Act/Pred) for max f1 @ threshold = 0.2122626882917041: \n"
     ]
    },
    {
     "data": {
      "text/html": [
       "<div style=\"overflow:auto\"><table style=\"width:50%\"><tr><td><b></b></td>\n",
       "<td><b>0</b></td>\n",
       "<td><b>1</b></td>\n",
       "<td><b>Error</b></td>\n",
       "<td><b>Rate</b></td></tr>\n",
       "<tr><td>0</td>\n",
       "<td>20677.0</td>\n",
       "<td>282.0</td>\n",
       "<td>0.0135</td>\n",
       "<td> (282.0/20959.0)</td></tr>\n",
       "<tr><td>1</td>\n",
       "<td>564.0</td>\n",
       "<td>945.0</td>\n",
       "<td>0.3738</td>\n",
       "<td> (564.0/1509.0)</td></tr>\n",
       "<tr><td>Total</td>\n",
       "<td>21241.0</td>\n",
       "<td>1227.0</td>\n",
       "<td>0.0377</td>\n",
       "<td> (846.0/22468.0)</td></tr></table></div>"
      ],
      "text/plain": [
       "       0      1     Error    Rate\n",
       "-----  -----  ----  -------  ---------------\n",
       "0      20677  282   0.0135   (282.0/20959.0)\n",
       "1      564    945   0.3738   (564.0/1509.0)\n",
       "Total  21241  1227  0.0377   (846.0/22468.0)"
      ]
     },
     "metadata": {},
     "output_type": "display_data"
    },
    {
     "data": {
      "text/plain": []
     },
     "execution_count": 545,
     "metadata": {},
     "output_type": "execute_result"
    }
   ],
   "source": [
    "d=perf.confusion_matrix()\n",
    "d"
   ]
  },
  {
   "cell_type": "code",
   "execution_count": 547,
   "metadata": {},
   "outputs": [
    {
     "data": {
      "text/plain": [
       "'stackedensemble'"
      ]
     },
     "execution_count": 547,
     "metadata": {},
     "output_type": "execute_result"
    }
   ],
   "source": [
    "\n",
    "aml.leader.algo"
   ]
  },
  {
   "cell_type": "code",
   "execution_count": 548,
   "metadata": {},
   "outputs": [
    {
     "data": {
      "text/plain": [
       "0.9574366388149465"
      ]
     },
     "execution_count": 548,
     "metadata": {},
     "output_type": "execute_result"
    }
   ],
   "source": [
    "\n",
    "aml.leader.model_performance(test).auc()"
   ]
  },
  {
   "cell_type": "code",
   "execution_count": 549,
   "metadata": {},
   "outputs": [
    {
     "name": "stdout",
     "output_type": "stream",
     "text": [
      "\n",
      "ModelMetricsBinomialGLM: stackedensemble\n",
      "** Reported on train data. **\n",
      "\n",
      "MSE: 0.03239951153450588\n",
      "RMSE: 0.1799986431462912\n",
      "LogLoss: 0.13116402575786068\n",
      "Null degrees of freedom: 112322\n",
      "Residual degrees of freedom: 112317\n",
      "Null deviance: 55321.887173928204\n",
      "Residual deviance: 29465.473730400365\n",
      "AIC: 29477.473730400365\n",
      "AUC: 0.9572753240493919\n",
      "pr_auc: 0.7652022030920781\n",
      "Gini: 0.9145506480987837\n",
      "Confusion Matrix (Act/Pred) for max f1 @ threshold = 0.22090517696777381: \n"
     ]
    },
    {
     "data": {
      "text/html": [
       "<div style=\"overflow:auto\"><table style=\"width:50%\"><tr><td><b></b></td>\n",
       "<td><b>0</b></td>\n",
       "<td><b>1</b></td>\n",
       "<td><b>Error</b></td>\n",
       "<td><b>Rate</b></td></tr>\n",
       "<tr><td>0</td>\n",
       "<td>103430.0</td>\n",
       "<td>1348.0</td>\n",
       "<td>0.0129</td>\n",
       "<td> (1348.0/104778.0)</td></tr>\n",
       "<tr><td>1</td>\n",
       "<td>2918.0</td>\n",
       "<td>4627.0</td>\n",
       "<td>0.3867</td>\n",
       "<td> (2918.0/7545.0)</td></tr>\n",
       "<tr><td>Total</td>\n",
       "<td>106348.0</td>\n",
       "<td>5975.0</td>\n",
       "<td>0.038</td>\n",
       "<td> (4266.0/112323.0)</td></tr></table></div>"
      ],
      "text/plain": [
       "       0       1     Error    Rate\n",
       "-----  ------  ----  -------  -----------------\n",
       "0      103430  1348  0.0129   (1348.0/104778.0)\n",
       "1      2918    4627  0.3867   (2918.0/7545.0)\n",
       "Total  106348  5975  0.038    (4266.0/112323.0)"
      ]
     },
     "metadata": {},
     "output_type": "display_data"
    },
    {
     "name": "stdout",
     "output_type": "stream",
     "text": [
      "Maximum Metrics: Maximum metrics at their respective thresholds\n",
      "\n"
     ]
    },
    {
     "data": {
      "text/html": [
       "<div style=\"overflow:auto\"><table style=\"width:50%\"><tr><td><b>metric</b></td>\n",
       "<td><b>threshold</b></td>\n",
       "<td><b>value</b></td>\n",
       "<td><b>idx</b></td></tr>\n",
       "<tr><td>max f1</td>\n",
       "<td>0.2209052</td>\n",
       "<td>0.6844675</td>\n",
       "<td>229.0</td></tr>\n",
       "<tr><td>max f2</td>\n",
       "<td>0.0771493</td>\n",
       "<td>0.7037543</td>\n",
       "<td>310.0</td></tr>\n",
       "<tr><td>max f0point5</td>\n",
       "<td>0.4030843</td>\n",
       "<td>0.7845523</td>\n",
       "<td>164.0</td></tr>\n",
       "<tr><td>max accuracy</td>\n",
       "<td>0.3235440</td>\n",
       "<td>0.9643172</td>\n",
       "<td>191.0</td></tr>\n",
       "<tr><td>max precision</td>\n",
       "<td>0.9671882</td>\n",
       "<td>1.0</td>\n",
       "<td>0.0</td></tr>\n",
       "<tr><td>max recall</td>\n",
       "<td>0.0303675</td>\n",
       "<td>1.0</td>\n",
       "<td>390.0</td></tr>\n",
       "<tr><td>max specificity</td>\n",
       "<td>0.9671882</td>\n",
       "<td>1.0</td>\n",
       "<td>0.0</td></tr>\n",
       "<tr><td>max absolute_mcc</td>\n",
       "<td>0.2944166</td>\n",
       "<td>0.6753270</td>\n",
       "<td>201.0</td></tr>\n",
       "<tr><td>max min_per_class_accuracy</td>\n",
       "<td>0.0498895</td>\n",
       "<td>0.8737139</td>\n",
       "<td>340.0</td></tr>\n",
       "<tr><td>max mean_per_class_accuracy</td>\n",
       "<td>0.0524583</td>\n",
       "<td>0.8753484</td>\n",
       "<td>336.0</td></tr></table></div>"
      ],
      "text/plain": [
       "metric                       threshold    value     idx\n",
       "---------------------------  -----------  --------  -----\n",
       "max f1                       0.220905     0.684467  229\n",
       "max f2                       0.0771493    0.703754  310\n",
       "max f0point5                 0.403084     0.784552  164\n",
       "max accuracy                 0.323544     0.964317  191\n",
       "max precision                0.967188     1         0\n",
       "max recall                   0.0303675    1         390\n",
       "max specificity              0.967188     1         0\n",
       "max absolute_mcc             0.294417     0.675327  201\n",
       "max min_per_class_accuracy   0.0498895    0.873714  340\n",
       "max mean_per_class_accuracy  0.0524583    0.875348  336"
      ]
     },
     "metadata": {},
     "output_type": "display_data"
    },
    {
     "name": "stdout",
     "output_type": "stream",
     "text": [
      "Gains/Lift Table: Avg response rate:  6.72 %, avg score:  6.92 %\n",
      "\n"
     ]
    },
    {
     "data": {
      "text/html": [
       "<div style=\"overflow:auto\"><table style=\"width:50%\"><tr><td><b></b></td>\n",
       "<td><b>group</b></td>\n",
       "<td><b>cumulative_data_fraction</b></td>\n",
       "<td><b>lower_threshold</b></td>\n",
       "<td><b>lift</b></td>\n",
       "<td><b>cumulative_lift</b></td>\n",
       "<td><b>response_rate</b></td>\n",
       "<td><b>score</b></td>\n",
       "<td><b>cumulative_response_rate</b></td>\n",
       "<td><b>cumulative_score</b></td>\n",
       "<td><b>capture_rate</b></td>\n",
       "<td><b>cumulative_capture_rate</b></td>\n",
       "<td><b>gain</b></td>\n",
       "<td><b>cumulative_gain</b></td></tr>\n",
       "<tr><td></td>\n",
       "<td>1</td>\n",
       "<td>0.0100069</td>\n",
       "<td>0.8506473</td>\n",
       "<td>14.8738328</td>\n",
       "<td>14.8738328</td>\n",
       "<td>0.9991103</td>\n",
       "<td>0.9057318</td>\n",
       "<td>0.9991103</td>\n",
       "<td>0.9057318</td>\n",
       "<td>0.1488403</td>\n",
       "<td>0.1488403</td>\n",
       "<td>1387.3832804</td>\n",
       "<td>1387.3832804</td></tr>\n",
       "<tr><td></td>\n",
       "<td>2</td>\n",
       "<td>0.0200048</td>\n",
       "<td>0.6933877</td>\n",
       "<td>14.8075384</td>\n",
       "<td>14.8407003</td>\n",
       "<td>0.9946572</td>\n",
       "<td>0.7770568</td>\n",
       "<td>0.9968847</td>\n",
       "<td>0.8414229</td>\n",
       "<td>0.1480451</td>\n",
       "<td>0.2968854</td>\n",
       "<td>1380.7538385</td>\n",
       "<td>1384.0700346</td></tr>\n",
       "<tr><td></td>\n",
       "<td>3</td>\n",
       "<td>0.0300028</td>\n",
       "<td>0.4911331</td>\n",
       "<td>13.3228076</td>\n",
       "<td>14.3348862</td>\n",
       "<td>0.8949243</td>\n",
       "<td>0.5921181</td>\n",
       "<td>0.9629080</td>\n",
       "<td>0.7583460</td>\n",
       "<td>0.1332008</td>\n",
       "<td>0.4300861</td>\n",
       "<td>1232.2807589</td>\n",
       "<td>1333.4886232</td></tr>\n",
       "<tr><td></td>\n",
       "<td>4</td>\n",
       "<td>0.0400007</td>\n",
       "<td>0.3385809</td>\n",
       "<td>9.9556502</td>\n",
       "<td>13.2403209</td>\n",
       "<td>0.6687444</td>\n",
       "<td>0.4082538</td>\n",
       "<td>0.8893835</td>\n",
       "<td>0.6708424</td>\n",
       "<td>0.0995361</td>\n",
       "<td>0.5296223</td>\n",
       "<td>895.5650248</td>\n",
       "<td>1224.0320906</td></tr>\n",
       "<tr><td></td>\n",
       "<td>5</td>\n",
       "<td>0.0500076</td>\n",
       "<td>0.2421070</td>\n",
       "<td>6.6223655</td>\n",
       "<td>11.9160229</td>\n",
       "<td>0.4448399</td>\n",
       "<td>0.2861905</td>\n",
       "<td>0.8004273</td>\n",
       "<td>0.5938709</td>\n",
       "<td>0.0662691</td>\n",
       "<td>0.5958913</td>\n",
       "<td>562.2365451</td>\n",
       "<td>1091.6022894</td></tr>\n",
       "<tr><td></td>\n",
       "<td>6</td>\n",
       "<td>0.1000062</td>\n",
       "<td>0.0854383</td>\n",
       "<td>3.4858453</td>\n",
       "<td>7.7013093</td>\n",
       "<td>0.2341524</td>\n",
       "<td>0.1394783</td>\n",
       "<td>0.5173151</td>\n",
       "<td>0.3666948</td>\n",
       "<td>0.1742876</td>\n",
       "<td>0.7701789</td>\n",
       "<td>248.5845256</td>\n",
       "<td>670.1309317</td></tr>\n",
       "<tr><td></td>\n",
       "<td>7</td>\n",
       "<td>0.1500049</td>\n",
       "<td>0.0559268</td>\n",
       "<td>1.5772456</td>\n",
       "<td>5.6600759</td>\n",
       "<td>0.1059473</td>\n",
       "<td>0.0676760</td>\n",
       "<td>0.3802006</td>\n",
       "<td>0.2670278</td>\n",
       "<td>0.0788602</td>\n",
       "<td>0.8490391</td>\n",
       "<td>57.7245572</td>\n",
       "<td>466.0075891</td></tr>\n",
       "<tr><td></td>\n",
       "<td>8</td>\n",
       "<td>0.2000036</td>\n",
       "<td>0.0456435</td>\n",
       "<td>0.9622523</td>\n",
       "<td>4.4856723</td>\n",
       "<td>0.0646368</td>\n",
       "<td>0.0500745</td>\n",
       "<td>0.3013132</td>\n",
       "<td>0.2127919</td>\n",
       "<td>0.0481113</td>\n",
       "<td>0.8971504</td>\n",
       "<td>-3.7747659</td>\n",
       "<td>348.5672283</td></tr>\n",
       "<tr><td></td>\n",
       "<td>9</td>\n",
       "<td>0.3000009</td>\n",
       "<td>0.0378336</td>\n",
       "<td>0.6812641</td>\n",
       "<td>3.2175738</td>\n",
       "<td>0.0457621</td>\n",
       "<td>0.0408295</td>\n",
       "<td>0.2161320</td>\n",
       "<td>0.1554728</td>\n",
       "<td>0.0681246</td>\n",
       "<td>0.9652750</td>\n",
       "<td>-31.8735946</td>\n",
       "<td>221.7573840</td></tr>\n",
       "<tr><td></td>\n",
       "<td>10</td>\n",
       "<td>0.3999982</td>\n",
       "<td>0.0354307</td>\n",
       "<td>0.2306225</td>\n",
       "<td>2.4708526</td>\n",
       "<td>0.0154915</td>\n",
       "<td>0.0364689</td>\n",
       "<td>0.1659730</td>\n",
       "<td>0.1257225</td>\n",
       "<td>0.0230616</td>\n",
       "<td>0.9883366</td>\n",
       "<td>-76.9377538</td>\n",
       "<td>147.0852616</td></tr>\n",
       "<tr><td></td>\n",
       "<td>11</td>\n",
       "<td>0.5000045</td>\n",
       "<td>0.0339452</td>\n",
       "<td>0.0675902</td>\n",
       "<td>1.9901745</td>\n",
       "<td>0.0045402</td>\n",
       "<td>0.0346653</td>\n",
       "<td>0.1336847</td>\n",
       "<td>0.1075101</td>\n",
       "<td>0.0067594</td>\n",
       "<td>0.9950961</td>\n",
       "<td>-93.2409779</td>\n",
       "<td>99.0174462</td></tr>\n",
       "<tr><td></td>\n",
       "<td>12</td>\n",
       "<td>0.6000018</td>\n",
       "<td>0.0326548</td>\n",
       "<td>0.0357862</td>\n",
       "<td>1.6644528</td>\n",
       "<td>0.0024038</td>\n",
       "<td>0.0333002</td>\n",
       "<td>0.1118052</td>\n",
       "<td>0.0951421</td>\n",
       "<td>0.0035785</td>\n",
       "<td>0.9986746</td>\n",
       "<td>-96.4213756</td>\n",
       "<td>66.4452759</td></tr>\n",
       "<tr><td></td>\n",
       "<td>13</td>\n",
       "<td>0.6999991</td>\n",
       "<td>0.0313007</td>\n",
       "<td>0.0092779</td>\n",
       "<td>1.4280052</td>\n",
       "<td>0.0006232</td>\n",
       "<td>0.0319647</td>\n",
       "<td>0.0959225</td>\n",
       "<td>0.0861170</td>\n",
       "<td>0.0009278</td>\n",
       "<td>0.9996024</td>\n",
       "<td>-99.0722085</td>\n",
       "<td>42.8005224</td></tr>\n",
       "<tr><td></td>\n",
       "<td>14</td>\n",
       "<td>0.7999964</td>\n",
       "<td>0.0300069</td>\n",
       "<td>0.0039762</td>\n",
       "<td>1.2500056</td>\n",
       "<td>0.0002671</td>\n",
       "<td>0.0306593</td>\n",
       "<td>0.0839658</td>\n",
       "<td>0.0791850</td>\n",
       "<td>0.0003976</td>\n",
       "<td>1.0</td>\n",
       "<td>-99.6023751</td>\n",
       "<td>25.0005564</td></tr>\n",
       "<tr><td></td>\n",
       "<td>15</td>\n",
       "<td>0.8999938</td>\n",
       "<td>0.0290064</td>\n",
       "<td>0.0</td>\n",
       "<td>1.1111188</td>\n",
       "<td>0.0</td>\n",
       "<td>0.0294737</td>\n",
       "<td>0.0746365</td>\n",
       "<td>0.0736616</td>\n",
       "<td>0.0</td>\n",
       "<td>1.0</td>\n",
       "<td>-100.0</td>\n",
       "<td>11.1118805</td></tr>\n",
       "<tr><td></td>\n",
       "<td>16</td>\n",
       "<td>1.0</td>\n",
       "<td>0.0276849</td>\n",
       "<td>0.0</td>\n",
       "<td>1.0</td>\n",
       "<td>0.0</td>\n",
       "<td>0.0286221</td>\n",
       "<td>0.0671724</td>\n",
       "<td>0.0691574</td>\n",
       "<td>0.0</td>\n",
       "<td>1.0</td>\n",
       "<td>-100.0</td>\n",
       "<td>0.0</td></tr></table></div>"
      ],
      "text/plain": [
       "    group    cumulative_data_fraction    lower_threshold    lift        cumulative_lift    response_rate    score      cumulative_response_rate    cumulative_score    capture_rate    cumulative_capture_rate    gain      cumulative_gain\n",
       "--  -------  --------------------------  -----------------  ----------  -----------------  ---------------  ---------  --------------------------  ------------------  --------------  -------------------------  --------  -----------------\n",
       "    1        0.0100069                   0.850647           14.8738     14.8738            0.99911          0.905732   0.99911                     0.905732            0.14884         0.14884                    1387.38   1387.38\n",
       "    2        0.0200048                   0.693388           14.8075     14.8407            0.994657         0.777057   0.996885                    0.841423            0.148045        0.296885                   1380.75   1384.07\n",
       "    3        0.0300028                   0.491133           13.3228     14.3349            0.894924         0.592118   0.962908                    0.758346            0.133201        0.430086                   1232.28   1333.49\n",
       "    4        0.0400007                   0.338581           9.95565     13.2403            0.668744         0.408254   0.889383                    0.670842            0.0995361       0.529622                   895.565   1224.03\n",
       "    5        0.0500076                   0.242107           6.62237     11.916             0.44484          0.28619    0.800427                    0.593871            0.0662691       0.595891                   562.237   1091.6\n",
       "    6        0.100006                    0.0854383          3.48585     7.70131            0.234152         0.139478   0.517315                    0.366695            0.174288        0.770179                   248.585   670.131\n",
       "    7        0.150005                    0.0559268          1.57725     5.66008            0.105947         0.067676   0.380201                    0.267028            0.0788602       0.849039                   57.7246   466.008\n",
       "    8        0.200004                    0.0456435          0.962252    4.48567            0.0646368        0.0500745  0.301313                    0.212792            0.0481113       0.89715                    -3.77477  348.567\n",
       "    9        0.300001                    0.0378336          0.681264    3.21757            0.0457621        0.0408295  0.216132                    0.155473            0.0681246       0.965275                   -31.8736  221.757\n",
       "    10       0.399998                    0.0354307          0.230622    2.47085            0.0154915        0.0364689  0.165973                    0.125722            0.0230616       0.988337                   -76.9378  147.085\n",
       "    11       0.500004                    0.0339452          0.0675902   1.99017            0.00454019       0.0346653  0.133685                    0.10751             0.00675944      0.995096                   -93.241   99.0174\n",
       "    12       0.600002                    0.0326548          0.0357862   1.66445            0.00240385       0.0333002  0.111805                    0.0951421           0.00357853      0.998675                   -96.4214  66.4453\n",
       "    13       0.699999                    0.0313007          0.00927792  1.42801            0.000623219      0.0319647  0.0959225                   0.086117            0.000927767     0.999602                   -99.0722  42.8005\n",
       "    14       0.799996                    0.0300069          0.00397625  1.25001            0.000267094      0.0306593  0.0839658                   0.079185            0.000397614     1                          -99.6024  25.0006\n",
       "    15       0.899994                    0.0290064          0           1.11112            0                0.0294737  0.0746365                   0.0736616           0               1                          -100      11.1119\n",
       "    16       1                           0.0276849          0           1                  0                0.0286221  0.0671724                   0.0691574           0               1                          -100      0"
      ]
     },
     "metadata": {},
     "output_type": "display_data"
    },
    {
     "name": "stdout",
     "output_type": "stream",
     "text": [
      "\n"
     ]
    },
    {
     "data": {
      "text/plain": []
     },
     "execution_count": 549,
     "metadata": {},
     "output_type": "execute_result"
    }
   ],
   "source": [
    "best_perf = aml.leader.model_performance()\n",
    "best_perf"
   ]
  },
  {
   "cell_type": "code",
   "execution_count": 550,
   "metadata": {},
   "outputs": [
    {
     "data": {
      "image/png": "[encoded data removed]",
      "text/plain": [
       "<Figure size 432x288 with 1 Axes>"
      ]
     },
     "metadata": {
      "needs_background": "light"
     },
     "output_type": "display_data"
    }
   ],
   "source": [
    "best_perf.plot()"
   ]
  },
  {
   "cell_type": "markdown",
   "metadata": {},
   "source": [
    "     AUC (Area Under The Curve) ROC (Receiver Operating Characteristics) curve is one of the most important evaluation metrics for checking any classification model’s performance. It is also written as AUROC (Area Under the Receiver Operating Characteristics)\n",
    " \n",
    "    An excellent model has AUC near to the 1 which means it has good measure of separability. A poor model has AUC near to the 0 which means it has worst measure of separability and Our AUC Value is 0.9573.\n",
    "    "
   ]
  },
  {
   "cell_type": "code",
   "execution_count": 551,
   "metadata": {},
   "outputs": [
    {
     "name": "stdout",
     "output_type": "stream",
     "text": [
      "Confusion Matrix (Act/Pred) for max f1 @ threshold = 0.22090517696777381: \n"
     ]
    },
    {
     "data": {
      "text/html": [
       "<div style=\"overflow:auto\"><table style=\"width:50%\"><tr><td><b></b></td>\n",
       "<td><b>0</b></td>\n",
       "<td><b>1</b></td>\n",
       "<td><b>Error</b></td>\n",
       "<td><b>Rate</b></td></tr>\n",
       "<tr><td>0</td>\n",
       "<td>103430.0</td>\n",
       "<td>1348.0</td>\n",
       "<td>0.0129</td>\n",
       "<td> (1348.0/104778.0)</td></tr>\n",
       "<tr><td>1</td>\n",
       "<td>2918.0</td>\n",
       "<td>4627.0</td>\n",
       "<td>0.3867</td>\n",
       "<td> (2918.0/7545.0)</td></tr>\n",
       "<tr><td>Total</td>\n",
       "<td>106348.0</td>\n",
       "<td>5975.0</td>\n",
       "<td>0.038</td>\n",
       "<td> (4266.0/112323.0)</td></tr></table></div>"
      ],
      "text/plain": [
       "       0       1     Error    Rate\n",
       "-----  ------  ----  -------  -----------------\n",
       "0      103430  1348  0.0129   (1348.0/104778.0)\n",
       "1      2918    4627  0.3867   (2918.0/7545.0)\n",
       "Total  106348  5975  0.038    (4266.0/112323.0)"
      ]
     },
     "metadata": {},
     "output_type": "display_data"
    },
    {
     "data": {
      "text/plain": []
     },
     "execution_count": 551,
     "metadata": {},
     "output_type": "execute_result"
    }
   ],
   "source": [
    "aml.leader.confusion_matrix()"
   ]
  },
  {
   "cell_type": "code",
   "execution_count": 620,
   "metadata": {},
   "outputs": [
    {
     "name": "stdout",
     "output_type": "stream",
     "text": [
      "H2O session _sid_b6e7 closed.\n"
     ]
    }
   ],
   "source": [
    "\n",
    "h2o.cluster().shutdown()"
   ]
  },
  {
   "cell_type": "markdown",
   "metadata": {},
   "source": [
    "\n",
    "#### Perform Feature Engineering\n",
    "    The goal of this section is to improve upon these predictors through a number of feature engineering steps. \n",
    "\n",
    "    "
   ]
  },
  {
   "cell_type": "code",
   "execution_count": 621,
   "metadata": {},
   "outputs": [],
   "source": [
    "import pandas as pd\n",
    "import numpy as np\n",
    "import seaborn as sns\n",
    "import xgboost as xgb\n",
    "import matplotlib.pyplot as plt\n",
    "\n",
    "from sklearn import preprocessing,model_selection\n",
    "import itertools\n"
   ]
  },
  {
   "cell_type": "code",
   "execution_count": 628,
   "metadata": {},
   "outputs": [
    {
     "name": "stdout",
     "output_type": "stream",
     "text": [
      "training dataset shape is (112323, 11)\n"
     ]
    }
   ],
   "source": [
    "fileaddress = \"C:\\\\Users\\\\Spurthy\\\\Documents\"\n",
    "df = pd.read_csv(fileaddress+\"\\\\cs-training.csv\")\n",
    "print (\"training dataset shape is {}\".format(df.shape))\n"
   ]
  },
  {
   "cell_type": "code",
   "execution_count": 623,
   "metadata": {},
   "outputs": [],
   "source": [
    "col_names = df.columns.values\n",
    "col_names[0] = 'ID' ## rename first column to ID\n",
    "df.columns = col_names ## assign new column name to training dataset\n"
   ]
  },
  {
   "cell_type": "code",
   "execution_count": 629,
   "metadata": {},
   "outputs": [
    {
     "name": "stdout",
     "output_type": "stream",
     "text": [
      "Take a peek at training dataset\n"
     ]
    },
    {
     "data": {
      "text/html": [
       "<div>\n",
       "<style scoped>\n",
       "    .dataframe tbody tr th:only-of-type {\n",
       "        vertical-align: middle;\n",
       "    }\n",
       "\n",
       "    .dataframe tbody tr th {\n",
       "        vertical-align: top;\n",
       "    }\n",
       "\n",
       "    .dataframe thead th {\n",
       "        text-align: right;\n",
       "    }\n",
       "</style>\n",
       "<table border=\"1\" class=\"dataframe\">\n",
       "  <thead>\n",
       "    <tr style=\"text-align: right;\">\n",
       "      <th></th>\n",
       "      <th>serious_dlqin2yrs</th>\n",
       "      <th>revolving_utilization_of_unsecured_lines</th>\n",
       "      <th>age</th>\n",
       "      <th>number_of_time30-59_days_past_due_not_worse</th>\n",
       "      <th>debt_ratio</th>\n",
       "      <th>monthly_income</th>\n",
       "      <th>number_of_open_credit_lines_and_loans</th>\n",
       "      <th>number_of_times90_days_late</th>\n",
       "      <th>number_real_estate_loans_or_lines</th>\n",
       "      <th>number_of_time60-89_days_past_due_not_worse</th>\n",
       "      <th>number_of_dependents</th>\n",
       "    </tr>\n",
       "  </thead>\n",
       "  <tbody>\n",
       "    <tr>\n",
       "      <th>0</th>\n",
       "      <td>0</td>\n",
       "      <td>0.957151</td>\n",
       "      <td>40</td>\n",
       "      <td>0</td>\n",
       "      <td>0.121876</td>\n",
       "      <td>2600.0</td>\n",
       "      <td>4</td>\n",
       "      <td>0</td>\n",
       "      <td>0</td>\n",
       "      <td>0</td>\n",
       "      <td>1.0</td>\n",
       "    </tr>\n",
       "    <tr>\n",
       "      <th>1</th>\n",
       "      <td>0</td>\n",
       "      <td>0.658180</td>\n",
       "      <td>38</td>\n",
       "      <td>1</td>\n",
       "      <td>0.085113</td>\n",
       "      <td>3042.0</td>\n",
       "      <td>2</td>\n",
       "      <td>1</td>\n",
       "      <td>0</td>\n",
       "      <td>0</td>\n",
       "      <td>0.0</td>\n",
       "    </tr>\n",
       "    <tr>\n",
       "      <th>2</th>\n",
       "      <td>0</td>\n",
       "      <td>0.233810</td>\n",
       "      <td>30</td>\n",
       "      <td>0</td>\n",
       "      <td>0.036050</td>\n",
       "      <td>3300.0</td>\n",
       "      <td>5</td>\n",
       "      <td>0</td>\n",
       "      <td>0</td>\n",
       "      <td>0</td>\n",
       "      <td>0.0</td>\n",
       "    </tr>\n",
       "    <tr>\n",
       "      <th>3</th>\n",
       "      <td>0</td>\n",
       "      <td>0.907239</td>\n",
       "      <td>49</td>\n",
       "      <td>1</td>\n",
       "      <td>0.024926</td>\n",
       "      <td>63588.0</td>\n",
       "      <td>7</td>\n",
       "      <td>0</td>\n",
       "      <td>1</td>\n",
       "      <td>0</td>\n",
       "      <td>0.0</td>\n",
       "    </tr>\n",
       "    <tr>\n",
       "      <th>4</th>\n",
       "      <td>0</td>\n",
       "      <td>0.213179</td>\n",
       "      <td>74</td>\n",
       "      <td>0</td>\n",
       "      <td>0.375607</td>\n",
       "      <td>3500.0</td>\n",
       "      <td>3</td>\n",
       "      <td>0</td>\n",
       "      <td>1</td>\n",
       "      <td>0</td>\n",
       "      <td>1.0</td>\n",
       "    </tr>\n",
       "  </tbody>\n",
       "</table>\n",
       "</div>"
      ],
      "text/plain": [
       "   serious_dlqin2yrs  revolving_utilization_of_unsecured_lines  age  \\\n",
       "0                  0                                  0.957151   40   \n",
       "1                  0                                  0.658180   38   \n",
       "2                  0                                  0.233810   30   \n",
       "3                  0                                  0.907239   49   \n",
       "4                  0                                  0.213179   74   \n",
       "\n",
       "   number_of_time30-59_days_past_due_not_worse  debt_ratio  monthly_income  \\\n",
       "0                                            0    0.121876          2600.0   \n",
       "1                                            1    0.085113          3042.0   \n",
       "2                                            0    0.036050          3300.0   \n",
       "3                                            1    0.024926         63588.0   \n",
       "4                                            0    0.375607          3500.0   \n",
       "\n",
       "   number_of_open_credit_lines_and_loans  number_of_times90_days_late  \\\n",
       "0                                      4                            0   \n",
       "1                                      2                            1   \n",
       "2                                      5                            0   \n",
       "3                                      7                            0   \n",
       "4                                      3                            0   \n",
       "\n",
       "   number_real_estate_loans_or_lines  \\\n",
       "0                                  0   \n",
       "1                                  0   \n",
       "2                                  0   \n",
       "3                                  1   \n",
       "4                                  1   \n",
       "\n",
       "   number_of_time60-89_days_past_due_not_worse  number_of_dependents  \n",
       "0                                            0                   1.0  \n",
       "1                                            0                   0.0  \n",
       "2                                            0                   0.0  \n",
       "3                                            0                   0.0  \n",
       "4                                            0                   1.0  "
      ]
     },
     "execution_count": 629,
     "metadata": {},
     "output_type": "execute_result"
    }
   ],
   "source": [
    "print (\"Take a peek at training dataset\")\n",
    "df.head()"
   ]
  },
  {
   "cell_type": "code",
   "execution_count": 624,
   "metadata": {},
   "outputs": [
    {
     "name": "stdout",
     "output_type": "stream",
     "text": [
      "ID                                               int64\n",
      "revolving_utilization_of_unsecured_lines       float64\n",
      "age                                              int64\n",
      "number_of_time30-59_days_past_due_not_worse      int64\n",
      "debt_ratio                                     float64\n",
      "monthly_income                                 float64\n",
      "number_of_open_credit_lines_and_loans            int64\n",
      "number_of_times90_days_late                      int64\n",
      "number_real_estate_loans_or_lines                int64\n",
      "number_of_time60-89_days_past_due_not_worse      int64\n",
      "number_of_dependents                           float64\n",
      "dtype: object\n"
     ]
    }
   ],
   "source": [
    "print(df.dtypes)"
   ]
  },
  {
   "cell_type": "markdown",
   "metadata": {},
   "source": [
    "     Distribution of following features are highly skewed.\n",
    "\n",
    "     RevolvingUtilizationOfUnsecuredLines\n",
    "     NumberOfTime30-59DaysPastDueNotWorse\n",
    "     DebtRatio\n",
    "     NumberOfTimes30DaysLate\n",
    "     NumberRealEstateLoansOrLines\n",
    "     NumberOfTime60-89DaysPastDueNotWorse\n",
    "     Take a log transformation to see if distribution can be less skewed."
   ]
  },
  {
   "cell_type": "code",
   "execution_count": 625,
   "metadata": {},
   "outputs": [
    {
     "name": "stderr",
     "output_type": "stream",
     "text": [
      "C:\\Users\\Spurthy\\Anaconda3\\lib\\site-packages\\scipy\\stats\\stats.py:1706: FutureWarning: Using a non-tuple sequence for multidimensional indexing is deprecated; use `arr[tuple(seq)]` instead of `arr[seq]`. In the future this will be interpreted as an array index, `arr[np.array(seq)]`, which will result either in an error or a different result.\n",
      "  return np.add.reduce(sorted[indexer] * weights, axis=axis) / sumval\n"
     ]
    },
    {
     "data": {
      "text/plain": [
       "<matplotlib.axes._subplots.AxesSubplot at 0x171d478b668>"
      ]
     },
     "execution_count": 625,
     "metadata": {},
     "output_type": "execute_result"
    },
    {
     "data": {
      "image/png": "[encoded data removed]",
      "text/plain": [
       "<Figure size 432x288 with 1 Axes>"
      ]
     },
     "metadata": {
      "needs_background": "light"
     },
     "output_type": "display_data"
    }
   ],
   "source": [
    "x = np.random.normal(size=333)\n",
    "sns.distplot(x)"
   ]
  },
  {
   "cell_type": "code",
   "execution_count": 630,
   "metadata": {},
   "outputs": [
    {
     "name": "stdout",
     "output_type": "stream",
     "text": [
      "count    112323.000000\n",
      "mean          0.067172\n",
      "std           0.250321\n",
      "min           0.000000\n",
      "25%           0.000000\n",
      "50%           0.000000\n",
      "75%           0.000000\n",
      "max           1.000000\n",
      "Name: serious_dlqin2yrs, dtype: float64\n"
     ]
    },
    {
     "name": "stderr",
     "output_type": "stream",
     "text": [
      "C:\\Users\\Spurthy\\Anaconda3\\lib\\site-packages\\scipy\\stats\\stats.py:1706: FutureWarning: Using a non-tuple sequence for multidimensional indexing is deprecated; use `arr[tuple(seq)]` instead of `arr[seq]`. In the future this will be interpreted as an array index, `arr[np.array(seq)]`, which will result either in an error or a different result.\n",
      "  return np.add.reduce(sorted[indexer] * weights, axis=axis) / sumval\n"
     ]
    },
    {
     "data": {
      "text/plain": [
       "<matplotlib.axes._subplots.AxesSubplot at 0x171d5768d30>"
      ]
     },
     "execution_count": 630,
     "metadata": {},
     "output_type": "execute_result"
    },
    {
     "data": {
      "image/png": "[encoded data removed]",
      "text/plain": [
       "<Figure size 648x576 with 1 Axes>"
      ]
     },
     "metadata": {
      "needs_background": "light"
     },
     "output_type": "display_data"
    }
   ],
   "source": [
    "print(df['serious_dlqin2yrs'].describe())\n",
    "plt.figure(figsize=(9, 8))\n",
    "sns.distplot(df['serious_dlqin2yrs'], color='g', bins=10, hist_kws={'alpha': 0.2})"
   ]
  },
  {
   "cell_type": "code",
   "execution_count": 633,
   "metadata": {},
   "outputs": [
    {
     "data": {
      "text/plain": [
       "array([[<matplotlib.axes._subplots.AxesSubplot object at 0x00000171D46C67F0>,\n",
       "        <matplotlib.axes._subplots.AxesSubplot object at 0x00000171CEDFD940>,\n",
       "        <matplotlib.axes._subplots.AxesSubplot object at 0x00000171CEF67320>],\n",
       "       [<matplotlib.axes._subplots.AxesSubplot object at 0x00000171D327BBE0>,\n",
       "        <matplotlib.axes._subplots.AxesSubplot object at 0x00000171D32AB198>,\n",
       "        <matplotlib.axes._subplots.AxesSubplot object at 0x00000171D4361710>],\n",
       "       [<matplotlib.axes._subplots.AxesSubplot object at 0x00000171D4388C88>,\n",
       "        <matplotlib.axes._subplots.AxesSubplot object at 0x00000171D43BA278>,\n",
       "        <matplotlib.axes._subplots.AxesSubplot object at 0x00000171D43BA2B0>],\n",
       "       [<matplotlib.axes._subplots.AxesSubplot object at 0x00000171D4406D30>,\n",
       "        <matplotlib.axes._subplots.AxesSubplot object at 0x00000171D44372E8>,\n",
       "        <matplotlib.axes._subplots.AxesSubplot object at 0x00000171D445E860>]],\n",
       "      dtype=object)"
      ]
     },
     "execution_count": 633,
     "metadata": {},
     "output_type": "execute_result"
    },
    {
     "data": {
      "image/png": "[encoded data removed]",
      "text/plain": [
       "<Figure size 720x576 with 12 Axes>"
      ]
     },
     "metadata": {
      "needs_background": "light"
     },
     "output_type": "display_data"
    }
   ],
   "source": [
    "df_num.hist(figsize=(10, 8), bins=10, xlabelsize=8, ylabelsize=8)"
   ]
  },
  {
   "cell_type": "code",
   "execution_count": 636,
   "metadata": {},
   "outputs": [
    {
     "name": "stdout",
     "output_type": "stream",
     "text": [
      "There is 1 strongly correlated values with SeriousDlqin2yrs:\n",
      "serious_dlqin2yrs    1.0\n",
      "Name: serious_dlqin2yrs, dtype: float64\n"
     ]
    }
   ],
   "source": [
    "df_num_corr = df_num.corr()['serious_dlqin2yrs'][:-1] # -1 because the latest row is SalePrice\n",
    "golden_features_list = df_num_corr[abs(df_num_corr) > 0.5].sort_values(ascending=False)\n",
    "print(\"There is {} strongly correlated values with SeriousDlqin2yrs:\\n{}\".format(len(golden_features_list), golden_features_list))"
   ]
  },
  {
   "cell_type": "code",
   "execution_count": 639,
   "metadata": {},
   "outputs": [
    {
     "data": {
      "image/png": "[encoded data removed]",
      "text/plain": [
       "<Figure size 900x180 with 5 Axes>"
      ]
     },
     "metadata": {
      "needs_background": "light"
     },
     "output_type": "display_data"
    },
    {
     "data": {
      "image/png": "[encoded data removed]",
      "text/plain": [
       "<Figure size 540x180 with 3 Axes>"
      ]
     },
     "metadata": {
      "needs_background": "light"
     },
     "output_type": "display_data"
    }
   ],
   "source": [
    "for i in range(0, len(df_num.columns), 8):\n",
    "    sns.pairplot(data=df_num,\n",
    "                x_vars=df_num.columns[i:i+5],\n",
    "                y_vars=['serious_dlqin2yrs'])"
   ]
  },
  {
   "cell_type": "code",
   "execution_count": 117,
   "metadata": {},
   "outputs": [
    {
     "name": "stdout",
     "output_type": "stream",
     "text": [
      "['ID' 'SeriousDlqin2yrs' 'RevolvingUtilizationOfUnsecuredLines' 'age'\n",
      " 'NumberOfTime30-59DaysPastDueNotWorse' 'DebtRatio' 'MonthlyIncome'\n",
      " 'NumberOfOpenCreditLinesAndLoans' 'NumberOfTimes90DaysLate'\n",
      " 'NumberRealEstateLoansOrLines' 'NumberOfTime60-89DaysPastDueNotWorse'\n",
      " 'NumberOfDependents']\n"
     ]
    }
   ],
   "source": [
    "print (df.columns.values)"
   ]
  },
  {
   "cell_type": "markdown",
   "metadata": {},
   "source": [
    "Distribution after log transformation"
   ]
  },
  {
   "cell_type": "code",
   "execution_count": 119,
   "metadata": {},
   "outputs": [
    {
     "name": "stderr",
     "output_type": "stream",
     "text": [
      "C:\\Users\\Spurthy\\Anaconda3\\lib\\site-packages\\scipy\\stats\\stats.py:1706: FutureWarning: Using a non-tuple sequence for multidimensional indexing is deprecated; use `arr[tuple(seq)]` instead of `arr[seq]`. In the future this will be interpreted as an array index, `arr[np.array(seq)]`, which will result either in an error or a different result.\n",
      "  return np.add.reduce(sorted[indexer] * weights, axis=axis) / sumval\n"
     ]
    },
    {
     "data": {
      "image/png": "[encoded data removed]",
      "text/plain": [
       "<Figure size 432x288 with 1 Axes>"
      ]
     },
     "metadata": {
      "needs_background": "light"
     },
     "output_type": "display_data"
    },
    {
     "data": {
      "image/png": "[encoded data removed]",
      "text/plain": [
       "<Figure size 432x288 with 1 Axes>"
      ]
     },
     "metadata": {
      "needs_background": "light"
     },
     "output_type": "display_data"
    },
    {
     "data": {
      "image/png": "[encoded data removed]",
      "text/plain": [
       "<Figure size 432x288 with 1 Axes>"
      ]
     },
     "metadata": {
      "needs_background": "light"
     },
     "output_type": "display_data"
    },
    {
     "data": {
      "image/png": "[encoded data removed]",
      "text/plain": [
       "<Figure size 432x288 with 1 Axes>"
      ]
     },
     "metadata": {
      "needs_background": "light"
     },
     "output_type": "display_data"
    },
    {
     "data": {
      "image/png": "[encoded data removed]",
      "text/plain": [
       "<Figure size 432x288 with 1 Axes>"
      ]
     },
     "metadata": {
      "needs_background": "light"
     },
     "output_type": "display_data"
    },
    {
     "data": {
      "image/png": "[encoded data removed]",
      "text/plain": [
       "<Figure size 432x288 with 1 Axes>"
      ]
     },
     "metadata": {
      "needs_background": "light"
     },
     "output_type": "display_data"
    },
    {
     "data": {
      "image/png": "[encoded data removed]",
      "text/plain": [
       "<Figure size 432x288 with 1 Axes>"
      ]
     },
     "metadata": {
      "needs_background": "light"
     },
     "output_type": "display_data"
    },
    {
     "data": {
      "image/png": "[encoded data removed]",
      "text/plain": [
       "<Figure size 432x288 with 1 Axes>"
      ]
     },
     "metadata": {
      "needs_background": "light"
     },
     "output_type": "display_data"
    }
   ],
   "source": [
    "\n",
    "for each in feature_list:\n",
    "    sns.distplot(df[each])\n",
    "    plt.show()"
   ]
  },
  {
   "cell_type": "markdown",
   "metadata": {},
   "source": [
    "The distribution after transformation is much less skewed. We may able to put them into machine learning algorithm later.\n",
    "\n",
    "Remove nan values in \"MonthlyIncome\" and \"NumberOfDependents\" to check their distribution"
   ]
  },
  {
   "cell_type": "code",
   "execution_count": 120,
   "metadata": {},
   "outputs": [
    {
     "name": "stderr",
     "output_type": "stream",
     "text": [
      "C:\\Users\\Spurthy\\Anaconda3\\lib\\site-packages\\scipy\\stats\\stats.py:1706: FutureWarning: Using a non-tuple sequence for multidimensional indexing is deprecated; use `arr[tuple(seq)]` instead of `arr[seq]`. In the future this will be interpreted as an array index, `arr[np.array(seq)]`, which will result either in an error or a different result.\n",
      "  return np.add.reduce(sorted[indexer] * weights, axis=axis) / sumval\n"
     ]
    },
    {
     "data": {
      "image/png": "[encoded data removed]",
      "text/plain": [
       "<Figure size 432x288 with 1 Axes>"
      ]
     },
     "metadata": {
      "needs_background": "light"
     },
     "output_type": "display_data"
    },
    {
     "data": {
      "image/png": "[encoded data removed]",
      "text/plain": [
       "<Figure size 432x288 with 1 Axes>"
      ]
     },
     "metadata": {
      "needs_background": "light"
     },
     "output_type": "display_data"
    }
   ],
   "source": [
    "partial_df = df[['MonthlyIncome','NumberOfDependents']]\n",
    "#partial_train_df.dropna(how='any')\n",
    "partial_df = partial_df.dropna(how='any')\n",
    "\n",
    "sns.distplot(partial_df['MonthlyIncome'])\n",
    "plt.show()\n",
    "sns.distplot(partial_df['NumberOfDependents'])\n",
    "plt.show()"
   ]
  },
  {
   "cell_type": "markdown",
   "metadata": {},
   "source": [
    "monthlyIncome is highly skewed. let us take log transformation on both then check their distribution again"
   ]
  },
  {
   "cell_type": "code",
   "execution_count": 121,
   "metadata": {},
   "outputs": [
    {
     "name": "stderr",
     "output_type": "stream",
     "text": [
      "C:\\Users\\Spurthy\\Anaconda3\\lib\\site-packages\\scipy\\stats\\stats.py:1706: FutureWarning: Using a non-tuple sequence for multidimensional indexing is deprecated; use `arr[tuple(seq)]` instead of `arr[seq]`. In the future this will be interpreted as an array index, `arr[np.array(seq)]`, which will result either in an error or a different result.\n",
      "  return np.add.reduce(sorted[indexer] * weights, axis=axis) / sumval\n"
     ]
    },
    {
     "data": {
      "image/png": "[encoded data removed]",
      "text/plain": [
       "<Figure size 432x288 with 1 Axes>"
      ]
     },
     "metadata": {
      "needs_background": "light"
     },
     "output_type": "display_data"
    },
    {
     "data": {
      "image/png": "[encoded data removed]",
      "text/plain": [
       "<Figure size 432x288 with 1 Axes>"
      ]
     },
     "metadata": {
      "needs_background": "light"
     },
     "output_type": "display_data"
    }
   ],
   "source": [
    "partial_df['MonthlyIncome'] = np.log(1+partial_df['MonthlyIncome'].values)\n",
    "partial_df['NumberOfDependents'] = np.log(1+partial_df['NumberOfDependents'].values)\n",
    "sns.distplot(partial_df['MonthlyIncome'])\n",
    "plt.show()\n",
    "sns.distplot(partial_df['NumberOfDependents'])\n",
    "plt.show()"
   ]
  },
  {
   "cell_type": "markdown",
   "metadata": {},
   "source": [
    "Post transformation looks better than before. I will keep log transformation on both at this time."
   ]
  },
  {
   "cell_type": "markdown",
   "metadata": {},
   "source": [
    "check nan values in training set"
   ]
  },
  {
   "cell_type": "code",
   "execution_count": 123,
   "metadata": {},
   "outputs": [
    {
     "name": "stdout",
     "output_type": "stream",
     "text": [
      "ID                                          0\n",
      "SeriousDlqin2yrs                            0\n",
      "RevolvingUtilizationOfUnsecuredLines        0\n",
      "age                                         0\n",
      "NumberOfTime30-59DaysPastDueNotWorse        0\n",
      "DebtRatio                                   0\n",
      "MonthlyIncome                           29731\n",
      "NumberOfOpenCreditLinesAndLoans             0\n",
      "NumberOfTimes90DaysLate                     0\n",
      "NumberRealEstateLoansOrLines                0\n",
      "NumberOfTime60-89DaysPastDueNotWorse        0\n",
      "NumberOfDependents                       3924\n",
      "dtype: int64\n"
     ]
    }
   ],
   "source": [
    "print (pd.isnull(df).sum(axis=0))"
   ]
  },
  {
   "cell_type": "markdown",
   "metadata": {},
   "source": [
    "\n",
    "Since the feature \"Monthly Income\" and \"Number of Dependents\" have many nan values in it. We create new features to see if observations with nan values in these two features are indictive for serious dlinquency rate"
   ]
  },
  {
   "cell_type": "code",
   "execution_count": 124,
   "metadata": {},
   "outputs": [
    {
     "data": {
      "text/html": [
       "<div>\n",
       "<style scoped>\n",
       "    .dataframe tbody tr th:only-of-type {\n",
       "        vertical-align: middle;\n",
       "    }\n",
       "\n",
       "    .dataframe tbody tr th {\n",
       "        vertical-align: top;\n",
       "    }\n",
       "\n",
       "    .dataframe thead th {\n",
       "        text-align: right;\n",
       "    }\n",
       "</style>\n",
       "<table border=\"1\" class=\"dataframe\">\n",
       "  <thead>\n",
       "    <tr style=\"text-align: right;\">\n",
       "      <th></th>\n",
       "      <th>MonthlyIncome_Null</th>\n",
       "      <th>SeriousDlqin2yrs</th>\n",
       "    </tr>\n",
       "  </thead>\n",
       "  <tbody>\n",
       "    <tr>\n",
       "      <th>0</th>\n",
       "      <td>False</td>\n",
       "      <td>0.069486</td>\n",
       "    </tr>\n",
       "    <tr>\n",
       "      <th>1</th>\n",
       "      <td>True</td>\n",
       "      <td>0.056137</td>\n",
       "    </tr>\n",
       "  </tbody>\n",
       "</table>\n",
       "</div>"
      ],
      "text/plain": [
       "   MonthlyIncome_Null  SeriousDlqin2yrs\n",
       "0               False          0.069486\n",
       "1                True          0.056137"
      ]
     },
     "execution_count": 124,
     "metadata": {},
     "output_type": "execute_result"
    }
   ],
   "source": [
    "df['MonthlyIncome_Null'] = pd.isnull(df['MonthlyIncome'])\n",
    "grouped_df = df.groupby('MonthlyIncome_Null')\n",
    "Dlqin = grouped_df['SeriousDlqin2yrs'].aggregate(np.mean).reset_index()\n",
    "Dlqin"
   ]
  },
  {
   "cell_type": "code",
   "execution_count": 125,
   "metadata": {},
   "outputs": [
    {
     "data": {
      "text/html": [
       "<div>\n",
       "<style scoped>\n",
       "    .dataframe tbody tr th:only-of-type {\n",
       "        vertical-align: middle;\n",
       "    }\n",
       "\n",
       "    .dataframe tbody tr th {\n",
       "        vertical-align: top;\n",
       "    }\n",
       "\n",
       "    .dataframe thead th {\n",
       "        text-align: right;\n",
       "    }\n",
       "</style>\n",
       "<table border=\"1\" class=\"dataframe\">\n",
       "  <thead>\n",
       "    <tr style=\"text-align: right;\">\n",
       "      <th></th>\n",
       "      <th>NoD_Null</th>\n",
       "      <th>SeriousDlqin2yrs</th>\n",
       "    </tr>\n",
       "  </thead>\n",
       "  <tbody>\n",
       "    <tr>\n",
       "      <th>0</th>\n",
       "      <td>False</td>\n",
       "      <td>0.067410</td>\n",
       "    </tr>\n",
       "    <tr>\n",
       "      <th>1</th>\n",
       "      <td>True</td>\n",
       "      <td>0.045617</td>\n",
       "    </tr>\n",
       "  </tbody>\n",
       "</table>\n",
       "</div>"
      ],
      "text/plain": [
       "   NoD_Null  SeriousDlqin2yrs\n",
       "0     False          0.067410\n",
       "1      True          0.045617"
      ]
     },
     "execution_count": 125,
     "metadata": {},
     "output_type": "execute_result"
    }
   ],
   "source": [
    "df['NoD_Null'] = pd.isnull(df['NumberOfDependents'])\n",
    "grouped_df = df.groupby('NoD_Null')\n",
    "Dlqin = grouped_df['SeriousDlqin2yrs'].aggregate(np.mean).reset_index()\n",
    "Dlqin"
   ]
  },
  {
   "cell_type": "markdown",
   "metadata": {},
   "source": [
    "It seems observations with nan values in \"Monthly Income\" or/and \"Number of Dpendents\" have lower deliquency rate than those with valid values."
   ]
  },
  {
   "cell_type": "code",
   "execution_count": 126,
   "metadata": {},
   "outputs": [
    {
     "name": "stdout",
     "output_type": "stream",
     "text": [
      "(150000, 14) <class 'pandas.core.frame.DataFrame'>\n",
      "(146076, 14)\n"
     ]
    },
    {
     "data": {
      "text/plain": [
       "ID                                          0\n",
       "SeriousDlqin2yrs                            0\n",
       "RevolvingUtilizationOfUnsecuredLines        0\n",
       "age                                         0\n",
       "NumberOfTime30-59DaysPastDueNotWorse        0\n",
       "DebtRatio                                   0\n",
       "MonthlyIncome                           25807\n",
       "NumberOfOpenCreditLinesAndLoans             0\n",
       "NumberOfTimes90DaysLate                     0\n",
       "NumberRealEstateLoansOrLines                0\n",
       "NumberOfTime60-89DaysPastDueNotWorse        0\n",
       "NumberOfDependents                          0\n",
       "MonthlyIncome_Null                          0\n",
       "NoD_Null                                    0\n",
       "dtype: int64"
      ]
     },
     "execution_count": 126,
     "metadata": {},
     "output_type": "execute_result"
    }
   ],
   "source": [
    "print(df.shape,type(df))\n",
    "df.dropna(axis=0,how='any',subset=['NumberOfDependents'],inplace=True)\n",
    "df.reset_index()\n",
    "print(df.shape)\n",
    "pd.isnull(df).sum(axis=0)"
   ]
  },
  {
   "cell_type": "markdown",
   "metadata": {},
   "source": [
    "### Conclusion:¶\n",
    "   \n",
    " - The best model for both Classification and regression is Stacked Ensemble\n",
    " - The best AUC score we got is 0.9538828675746901 whereas the best AUC in Kaggle is 0.869558\n",
    " - The best logloss score is 0.13823047113084244\n",
    " - The best RMSE Value is 0.18729468157687296\n",
    "   \n",
    "The closer to 1 a models AUC score is, the BETTER it is. However, the best model is Stacked Ensamble with an AUC Score of 0.953."
   ]
  },
  {
   "cell_type": "markdown",
   "metadata": {},
   "source": [
    "### Contributions:\n",
    " * Performed H2o auto ML and found out the best model for regression and classification\n",
    " * Found out the best AUC, RMSE and Logloss scores for the trained dataset.\n",
    " * Did Ensemble Exploration where I slpit the test and train data and got the best scores for the test data as well.\n",
    " * Did Some feature Engineering where I applied log transormation for Highly skewed features.\n",
    " * Explained the code throughout."
   ]
  },
  {
   "cell_type": "markdown",
   "metadata": {},
   "source": [
    "### Citation:\n",
    "\n",
    "    Kaggle and few Data analysis Algorithms -  www.Kaggle.com\n",
    "    Regression and Classification -  https://www.analyticsvidhya.com/blog/\n",
    "    Ensemble methods -  https://scikit-learn.org/stable/modules/ensemble.html\n",
    "    H2o - https://github.com/nikbearbrown/CSYE_7245/tree/master/H2O\n"
   ]
  },
  {
   "cell_type": "markdown",
   "metadata": {},
   "source": [
    "### License: \n",
    "\n",
    "    Copyright 2019 SPOORTHI BELLAM\n",
    "\n",
    "Permission is hereby granted, free of charge, to any person obtaining a copy of this software and associated documentation files (the \"Software\"), to deal in the Software without restriction, including without limitation the rights to use, copy, modify, merge, publish, distribute, sublicense, and/or sell copies of the Software, and to permit persons to whom the Software is furnished to do so, subject to the following conditions:\n",
    "\n",
    "The above copyright notice and this permission notice shall be included in all copies or substantial portions of the Software.\n",
    "\n",
    "THE SOFTWARE IS PROVIDED \"AS IS\", WITHOUT WARRANTY OF ANY KIND, EXPRESS OR IMPLIED, INCLUDING BUT NOT LIMITED TO THE WARRANTIES OF MERCHANTABILITY, FITNESS FOR A PARTICULAR PURPOSE AND NONINFRINGEMENT. IN NO EVENT SHALL THE AUTHORS OR COPYRIGHT HOLDERS BE LIABLE FOR ANY CLAIM, DAMAGES OR OTHER LIABILITY, WHETHER IN AN ACTION OF CONTRACT, TORT OR OTHERWISE, ARISING FROM, OUT OF OR IN CONNECTION WITH THE SOFTWARE OR THE USE OR OTHER DEALINGS IN THE SOFTWARE."
   ]
  },
  {
   "cell_type": "code",
   "execution_count": null,
   "metadata": {},
   "outputs": [],
   "source": []
  }
 ],
 "metadata": {
  "kernelspec": {
   "display_name": "Python 3",
   "language": "python",
   "name": "python3"
  },
  "language_info": {
   "codemirror_mode": {
    "name": "ipython",
    "version": 3
   },
   "file_extension": ".py",
   "mimetype": "text/x-python",
   "name": "python",
   "nbconvert_exporter": "python",
   "pygments_lexer": "ipython3",
   "version": "3.6.4"
  }
 },
 "nbformat": 4,
 "nbformat_minor": 2
}
